{
 "cells": [
  {
   "cell_type": "code",
   "execution_count": null,
   "id": "92e0608a",
   "metadata": {},
   "outputs": [],
   "source": []
  },
  {
   "cell_type": "code",
   "execution_count": 2,
   "id": "560d4c94",
   "metadata": {},
   "outputs": [
    {
     "name": "stdout",
     "output_type": "stream",
     "text": [
      "ukraine revisits state sell-offs ukraine is preparing what could be a wholesale review of the\n",
      "privatisation of thousands of businesses by the previous administration.  the new president  viktor\n",
      "yushchenko  has said a  limited  list of companies is being drawn up. but on wednesday prime\n",
      "minister yulia tymoshenko said the government was planning to renationalise 3 000 firms. the\n",
      "government says many privatised firms were sold to allies of the last administration at rock-bottom\n",
      "prices. more than 90 000 businesses in all  from massive corporations to tiny shopfronts  have been\n",
      "sold off since 1992  as the command economy built up when ukraine was part of the soviet union\n",
      "was dismantled.  ms tymoshenko said prosecutors had drawn up a list of more than 3 000\n",
      "businesses which were to be reviewed.  we will return to the state that which was illegally put into\n",
      "private hands.   a day earlier  mr yushchenko - keen to reassure potential investors - had said only\n",
      "30 to 40 top firms would be targeted. the list  will be limited and final  and will not be extended after\n",
      "its completion   he said. an open-ended list could further damage outside investors  fragile faith in\n",
      "ukraine  said stuart hensel of the economist intelligence unit. but the government seemed keen not\n",
      "to make the review look like the kind of wholesale renationalisation which many fear in russia  mr\n",
      "hensel said. as a result  it was planning to resell rather than keep firms in state hands.  they re\n",
      "aware of the need not to scare investors  and to be careful of internal divides within ukraine   he\n",
      "said.  they don t want to be seen to be transferring assets from one set of oligarchs to a new set. \n",
      "foreign investment in ukraine  at about $40 a head in 2004  is one of the lowest among ex-soviet\n",
      "states.  mr yushchenko became president after two elections in december  the first of which was\n",
      "annulled amid allegations of voting irregularities and massive street protests.  his opponent  viktor\n",
      "yanukovich  still has huge support in the country s eastern industrial heartland. mr yushchenko s\n",
      "administration has accused its predecessor  led by ex-president leonid kuchma  of corruption. the\n",
      "privatisation review s number one target is a steel mill sold to a consortium which included viktor\n",
      "pinchuk  mr kuchma s son-in-law  for $800m (£424m) despite higher bids from several foreign\n",
      "groups. the mill  krivorizhstal  is one of the world s most profitable.  we say krivorizhstal was stolen \n",
      "and at any cost we will return it to the state   mr yushchenko told an investors  conference in kiev. one of the jilted bidders  netherlands-based group lnm  said it welcomed the possibility that the mill\n",
      "might be back on the market.   if the original privatisation is annulled and a new tender issued  then\n",
      "we would look at it with great interest   a spokesman told bbc news. a resale of krivorizhstal could\n",
      "potentially triple the price  according to the economist intelligence unit s mr hensel. but he warned\n",
      "that the government could decide to take the easy route of revaluing the company and charging the\n",
      "existing owners the revised price rather than undertaking a fresh sale.  that way  mr yushchenko can\n",
      "go to the public and say he has forced the oligarchs to play by the rules   he told bbc news.\n"
     ]
    }
   ],
   "source": [
    "import PyPDF2\n",
    "\n",
    "def extract_text_from_pdf(file_path):\n",
    "    text = \"\"\n",
    "    with open(file_path, \"rb\") as f:\n",
    "        pdf_reader = PyPDF2.PdfReader(f)\n",
    "        num_pages = len(pdf_reader.pages)\n",
    "        for page_num in range(num_pages):\n",
    "            page = pdf_reader.pages[page_num]\n",
    "            text += page.extract_text()\n",
    "    return text\n",
    "\n",
    "\n",
    "# Example usage\n",
    "pdf_file_path = r\"text_1006.pdf\"\n",
    "pdf_text = extract_text_from_pdf(pdf_file_path)\n",
    "print(pdf_text)\n"
   ]
  },
  {
   "cell_type": "code",
   "execution_count": 4,
   "id": "c65dcf95",
   "metadata": {},
   "outputs": [
    {
     "name": "stderr",
     "output_type": "stream",
     "text": [
      "No model was supplied, defaulted to facebook/bart-large-mnli and revision c626438 (https://huggingface.co/facebook/bart-large-mnli).\n",
      "Using a pipeline without specifying a model name and revision in production is not recommended.\n"
     ]
    },
    {
     "name": "stdout",
     "output_type": "stream",
     "text": [
      "Document: ukraine revisits state sell-offs ukraine is preparing what could be a wholesale review of the\n",
      "privatisation of thousands of businesses by the previous administration.  the new president  viktor\n",
      "yushchenko  has said a  limited  list of companies is being drawn up. but on wednesday prime\n",
      "minister yulia tymoshenko said the government was planning to renationalise 3 000 firms. the\n",
      "government says many privatised firms were sold to allies of the last administration at rock-bottom\n",
      "prices. more than 90 000 businesses in all  from massive corporations to tiny shopfronts  have been\n",
      "sold off since 1992  as the command economy built up when ukraine was part of the soviet union\n",
      "was dismantled.  ms tymoshenko said prosecutors had drawn up a list of more than 3 000\n",
      "businesses which were to be reviewed.  we will return to the state that which was illegally put into\n",
      "private hands.   a day earlier  mr yushchenko - keen to reassure potential investors - had said only\n",
      "30 to 40 top firms would be targeted. the list  will be limited and final  and will not be extended after\n",
      "its completion   he said. an open-ended list could further damage outside investors  fragile faith in\n",
      "ukraine  said stuart hensel of the economist intelligence unit. but the government seemed keen not\n",
      "to make the review look like the kind of wholesale renationalisation which many fear in russia  mr\n",
      "hensel said. as a result  it was planning to resell rather than keep firms in state hands.  they re\n",
      "aware of the need not to scare investors  and to be careful of internal divides within ukraine   he\n",
      "said.  they don t want to be seen to be transferring assets from one set of oligarchs to a new set. \n",
      "foreign investment in ukraine  at about $40 a head in 2004  is one of the lowest among ex-soviet\n",
      "states.  mr yushchenko became president after two elections in december  the first of which was\n",
      "annulled amid allegations of voting irregularities and massive street protests.  his opponent  viktor\n",
      "yanukovich  still has huge support in the country s eastern industrial heartland. mr yushchenko s\n",
      "administration has accused its predecessor  led by ex-president leonid kuchma  of corruption. the\n",
      "privatisation review s number one target is a steel mill sold to a consortium which included viktor\n",
      "pinchuk  mr kuchma s son-in-law  for $800m (£424m) despite higher bids from several foreign\n",
      "groups. the mill  krivorizhstal  is one of the world s most profitable.  we say krivorizhstal was stolen \n",
      "and at any cost we will return it to the state   mr yushchenko told an investors  conference in kiev. one of the jilted bidders  netherlands-based group lnm  said it welcomed the possibility that the mill\n",
      "might be back on the market.   if the original privatisation is annulled and a new tender issued  then\n",
      "we would look at it with great interest   a spokesman told bbc news. a resale of krivorizhstal could\n",
      "potentially triple the price  according to the economist intelligence unit s mr hensel. but he warned\n",
      "that the government could decide to take the easy route of revaluing the company and charging the\n",
      "existing owners the revised price rather than undertaking a fresh sale.  that way  mr yushchenko can\n",
      "go to the public and say he has forced the oligarchs to play by the rules   he told bbc news.\n",
      "Predicted Label: business\n",
      "Confidence Score: 0.4240737557411194\n"
     ]
    }
   ],
   "source": [
    "from transformers import pipeline\n",
    "\n",
    "# Initialize the document classification pipeline\n",
    "document_classifier = pipeline(\"zero-shot-classification\")\n",
    "\n",
    "candidate_labels = [\"science\", \"technology\", \"politics\", \"sports\", \"entertainment\",\"business\"]\n",
    "\n",
    "document = pdf_text\n",
    "result = document_classifier(document, candidate_labels)\n",
    "\n",
    "\n",
    "print(\"Document:\", document)\n",
    "print(\"Predicted Label:\", result['labels'][0])\n",
    "print(\"Confidence Score:\", result['scores'][0])\n"
   ]
  },
  {
   "cell_type": "code",
   "execution_count": null,
   "id": "4753848f",
   "metadata": {},
   "outputs": [],
   "source": []
  }
 ],
 "metadata": {
  "kernelspec": {
   "display_name": "Python 3 (ipykernel)",
   "language": "python",
   "name": "python3"
  },
  "language_info": {
   "codemirror_mode": {
    "name": "ipython",
    "version": 3
   },
   "file_extension": ".py",
   "mimetype": "text/x-python",
   "name": "python",
   "nbconvert_exporter": "python",
   "pygments_lexer": "ipython3",
   "version": "3.11.5"
  }
 },
 "nbformat": 4,
 "nbformat_minor": 5
}

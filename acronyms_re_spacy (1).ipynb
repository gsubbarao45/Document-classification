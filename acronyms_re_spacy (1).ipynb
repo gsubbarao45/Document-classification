{
  "nbformat": 4,
  "nbformat_minor": 0,
  "metadata": {
    "colab": {
      "provenance": []
    },
    "kernelspec": {
      "name": "python3",
      "display_name": "Python 3"
    },
    "language_info": {
      "name": "python"
    }
  },
  "cells": [
    {
      "cell_type": "code",
      "execution_count": null,
      "metadata": {
        "id": "9TEXxGBdDwul"
      },
      "outputs": [],
      "source": [
        "#Using Spacy"
      ]
    },
    {
      "cell_type": "code",
      "source": [
        "# !pip install spacy\n",
        "# !python -m spacy download en_core_web_sm\n",
        "\n",
        "import spacy\n",
        "\n",
        "# Load the spaCy model\n",
        "nlp = spacy.load(\"en_core_web_sm\")\n"
      ],
      "metadata": {
        "id": "eAyHeUaVEef5"
      },
      "execution_count": 1,
      "outputs": []
    },
    {
      "cell_type": "code",
      "source": [
        "# Acronym mapping\n",
        "acronym_map = {\n",
        "    \"CD\": \"Closing Date\",\n",
        "    \"IP\": \"Investment Period\",\n",
        "    \"DI\": \"Direct Investment\",\n",
        "    \"AFF\": \"Affiliate\",\n",
        "    \"GP\": \"General Partner\",\n",
        "    \"LI\": \"Lead Investor\",\n",
        "    \"SIF\": \"Secondary Investee Fund\",\n",
        "    \"IF\": \"Investee Fund\",\n",
        "    \"GPCS\": \"GP's Capital Subscriptions\",\n",
        "    \"RF\": \"Related Funds\",\n",
        "    \"RFM\": \"Related Firms\",\n",
        "    \"PIF\": \"Primary Investee Fund\",\n",
        "    \"DDI\": \"Discretionary Direct Investment\"\n",
        "}\n",
        "\n",
        "\n",
        "def replace_acronyms(text, acronym_map):\n",
        "    doc = nlp(text)  # Process the input text using spaCy\n",
        "\n",
        "    replaced_text = []\n",
        "    for token in doc:\n",
        "        # If the token is an acronym, replace it with its full form from acronym_map\n",
        "        if token.text in acronym_map:\n",
        "            # Replace with full form, checking context if needed (you can expand this)\n",
        "            replaced_text.append(acronym_map[token.text])\n",
        "        else:\n",
        "            replaced_text.append(token.text)\n",
        "\n",
        "    return \" \".join(replaced_text)\n",
        "\n",
        "# Example usage\n",
        "text = \"The CD for the project is approaching, and the GP is discussing the IP extension with the LI.\"\n",
        "replaced_text = replace_acronyms(text, acronym_map)\n",
        "print(replaced_text)"
      ],
      "metadata": {
        "colab": {
          "base_uri": "https://localhost:8080/"
        },
        "id": "dUsh_iEEE3mZ",
        "outputId": "1cbe0588-b812-4f71-b1f0-08f95e747011"
      },
      "execution_count": 3,
      "outputs": [
        {
          "output_type": "stream",
          "name": "stdout",
          "text": [
            "The Closing Date for the project is approaching , and the General Partner is discussing the Investment Period extension with the LI.These all write in Closing Date storage\n"
          ]
        }
      ]
    },
    {
      "cell_type": "code",
      "source": [],
      "metadata": {
        "id": "Fyn61bRLF1ws"
      },
      "execution_count": null,
      "outputs": []
    },
    {
      "cell_type": "code",
      "source": [
        "#Using regular expression"
      ],
      "metadata": {
        "id": "4fWYDhyjGNjS"
      },
      "execution_count": null,
      "outputs": []
    },
    {
      "cell_type": "code",
      "source": [
        "import re\n",
        "\n",
        "# Define the acronym mapping\n",
        "acronym_map = {\n",
        "    \"CD\": \"Closing Date\",\n",
        "    \"IP\": \"Investment Period\",\n",
        "    \"DI\": \"Direct Investment\",\n",
        "    \"AFF\": \"Affiliate\",\n",
        "    \"GP\": \"General Partner\",\n",
        "    \"LI\": \"Lead Investor\",\n",
        "    \"SIF\": \"Secondary Investee Fund\",\n",
        "    \"IF\": \"Investee Fund\",\n",
        "    \"GPCS\": \"GP's Capital Subscriptions\",\n",
        "    \"RF\": \"Related Funds\",\n",
        "    \"RFM\": \"Related Firms\",\n",
        "    \"PIF\": \"Primary Investee Fund\",\n",
        "    \"DDI\": \"Discretionary Direct Investment\"\n",
        "}\n",
        "\n",
        "# Function to replace acronyms using regular expressions\n",
        "def replace_acronyms(text, acronym_map):\n",
        "    # Replace acronyms in the text\n",
        "    for acronym, full_form in acronym_map.items():\n",
        "        regex_pattern = r'\\b' + re.escape(acronym) + r'\\b'\n",
        "        text = re.sub(regex_pattern, full_form, text)\n",
        "\n",
        "    return text\n",
        "\n",
        "# Example text input\n",
        "input_text = \"The CD is set, and the GP along with LI invested in the IF during the IP. This entire information available in CD memory\"\n",
        "\n",
        "# Replace acronyms in the text\n",
        "output_text = replace_acronyms(input_text, acronym_map)\n",
        "\n",
        "print(output_text)\n"
      ],
      "metadata": {
        "colab": {
          "base_uri": "https://localhost:8080/"
        },
        "id": "6troZPxHGNmO",
        "outputId": "3e01375f-a090-4b3b-eaea-48d498d3164e"
      },
      "execution_count": 10,
      "outputs": [
        {
          "output_type": "stream",
          "name": "stdout",
          "text": [
            "The Closing Date is set, and the General Partner along with Lead Investor invested in the Investee Fund during the Investment Period. This entire information available in Closing Date memory\n"
          ]
        }
      ]
    },
    {
      "cell_type": "code",
      "source": [],
      "metadata": {
        "id": "jv2Q8vLsIs4r"
      },
      "execution_count": null,
      "outputs": []
    },
    {
      "cell_type": "code",
      "source": [
        "#Using spacy and re"
      ],
      "metadata": {
        "id": "DdhXewZXJSRm"
      },
      "execution_count": null,
      "outputs": []
    },
    {
      "cell_type": "code",
      "source": [
        "import re\n",
        "import spacy\n",
        "\n",
        "# Load the spaCy model\n",
        "nlp = spacy.load('en_core_web_sm')\n",
        "\n",
        "# Define the acronym mapping\n",
        "acronym_map = {\n",
        "    \"CD\": \"Closing Date\",\n",
        "    \"IP\": \"Investment Period\",\n",
        "    \"DI\": \"Direct Investment\",\n",
        "    \"AFF\": \"Affiliate\",\n",
        "    \"GP\": \"General Partner\",\n",
        "    \"LI\": \"Lead Investor\",\n",
        "    \"SIF\": \"Secondary Investee Fund\",\n",
        "    \"IF\": \"Investee Fund\",\n",
        "    \"GPCS\": \"GP's Capital Subscriptions\",\n",
        "    \"RF\": \"Related Funds\",\n",
        "    \"RFM\": \"Related Firms\",\n",
        "    \"PIF\": \"Primary Investee Fund\",\n",
        "    \"DDI\": \"Discretionary Direct Investment\"\n",
        "}\n",
        "\n",
        "def replace_acronyms(text, acronym_map):\n",
        "    doc = nlp(text)\n",
        "    sentences = list(doc.sents)\n",
        "\n",
        "    # Prepare a mapping of replacements\n",
        "    replacements = {}\n",
        "\n",
        "    for sentence in sentences:\n",
        "        # Extract tokens from the sentence\n",
        "        tokens = [token.text for token in sentence]\n",
        "\n",
        "        for acronym, full_form in acronym_map.items():\n",
        "            # If the acronym is in the sentence, check context\n",
        "            if acronym in tokens:\n",
        "                # Collect context words around the acronym\n",
        "                index = tokens.index(acronym)\n",
        "                before_context = tokens[max(0, index-5):index]\n",
        "                after_context = tokens[index+1:index+6]\n",
        "\n",
        "                # Check if the context suggests the acronym's full form\n",
        "                before_text = ' '.join(before_context).lower()\n",
        "                after_text = ' '.join(after_context).lower()\n",
        "\n",
        "                if any(word in full_form.lower() for word in before_text.split() + after_text.split()):\n",
        "                    replacements[acronym] = full_form\n",
        "\n",
        "    # Replace acronyms in the text\n",
        "    for acronym, full_form in replacements.items():\n",
        "        text = re.sub(r'\\b{}\\b'.format(re.escape(acronym)), full_form, text)\n",
        "\n",
        "    return text\n",
        "\n",
        "\n",
        "\n",
        "# Example text input\n",
        "input_text = \"The CD is set, and the GP along with LI invested in the IF during the IP. This entire information available in CD memory.\"\n",
        "\n",
        "\n",
        "output_text = replace_acronyms(input_text, acronym_map)\n",
        "\n",
        "print(\"Output text:\")\n",
        "print(output_text)\n"
      ],
      "metadata": {
        "colab": {
          "base_uri": "https://localhost:8080/"
        },
        "id": "0J1mhGjEJSUl",
        "outputId": "7a0a5f10-8610-40be-a48b-8db716982455"
      },
      "execution_count": 23,
      "outputs": [
        {
          "output_type": "stream",
          "name": "stdout",
          "text": [
            "Output text:\n",
            "The Closing Date is set, and the GP along with Lead Investor invested in the Investee Fund during the Investment Period. This entire information available in Closing Date memory.\n"
          ]
        }
      ]
    },
    {
      "cell_type": "code",
      "source": [],
      "metadata": {
        "id": "l0L3gO8nOJUC"
      },
      "execution_count": null,
      "outputs": []
    },
    {
      "cell_type": "code",
      "source": [],
      "metadata": {
        "id": "zGFL3D5vOJaR"
      },
      "execution_count": null,
      "outputs": []
    },
    {
      "cell_type": "code",
      "source": [
        "#Using fuzzy wuzzy\n",
        "\n",
        "#!pip install fuzzywuzzy python-Levenshtein\n",
        "\n"
      ],
      "metadata": {
        "colab": {
          "base_uri": "https://localhost:8080/"
        },
        "id": "v2frdLZ8OJeJ",
        "outputId": "0c8c4b36-610e-4aee-ff3e-190d8996313a"
      },
      "execution_count": 29,
      "outputs": [
        {
          "output_type": "stream",
          "name": "stdout",
          "text": [
            "Collecting fuzzywuzzy\n",
            "  Downloading fuzzywuzzy-0.18.0-py2.py3-none-any.whl.metadata (4.9 kB)\n",
            "Collecting python-Levenshtein\n",
            "  Downloading python_Levenshtein-0.25.1-py3-none-any.whl.metadata (3.7 kB)\n",
            "Collecting Levenshtein==0.25.1 (from python-Levenshtein)\n",
            "  Downloading Levenshtein-0.25.1-cp310-cp310-manylinux_2_17_x86_64.manylinux2014_x86_64.whl.metadata (3.3 kB)\n",
            "Collecting rapidfuzz<4.0.0,>=3.8.0 (from Levenshtein==0.25.1->python-Levenshtein)\n",
            "  Downloading rapidfuzz-3.9.7-cp310-cp310-manylinux_2_17_x86_64.manylinux2014_x86_64.whl.metadata (12 kB)\n",
            "Downloading fuzzywuzzy-0.18.0-py2.py3-none-any.whl (18 kB)\n",
            "Downloading python_Levenshtein-0.25.1-py3-none-any.whl (9.4 kB)\n",
            "Downloading Levenshtein-0.25.1-cp310-cp310-manylinux_2_17_x86_64.manylinux2014_x86_64.whl (177 kB)\n",
            "\u001b[2K   \u001b[90m━━━━━━━━━━━━━━━━━━━━━━━━━━━━━━━━━━━━━━━━\u001b[0m \u001b[32m177.4/177.4 kB\u001b[0m \u001b[31m4.4 MB/s\u001b[0m eta \u001b[36m0:00:00\u001b[0m\n",
            "\u001b[?25hDownloading rapidfuzz-3.9.7-cp310-cp310-manylinux_2_17_x86_64.manylinux2014_x86_64.whl (3.4 MB)\n",
            "\u001b[2K   \u001b[90m━━━━━━━━━━━━━━━━━━━━━━━━━━━━━━━━━━━━━━━━\u001b[0m \u001b[32m3.4/3.4 MB\u001b[0m \u001b[31m36.9 MB/s\u001b[0m eta \u001b[36m0:00:00\u001b[0m\n",
            "\u001b[?25hInstalling collected packages: fuzzywuzzy, rapidfuzz, Levenshtein, python-Levenshtein\n",
            "Successfully installed Levenshtein-0.25.1 fuzzywuzzy-0.18.0 python-Levenshtein-0.25.1 rapidfuzz-3.9.7\n"
          ]
        }
      ]
    },
    {
      "cell_type": "code",
      "source": [
        "import spacy\n",
        "from fuzzywuzzy import fuzz\n",
        "from fuzzywuzzy import process\n",
        "\n",
        "# Load SpaCy model\n",
        "nlp = spacy.load(\"en_core_web_sm\")\n",
        "\n",
        "# Acronym mapping\n",
        "acronym_map = {\n",
        "    \"CD\": \"Closing Date\",\n",
        "    \"IP\": \"Investment Period\",\n",
        "    \"DI\": \"Direct Investment\",\n",
        "    \"AFF\": \"Affiliate\",\n",
        "    \"GP\": \"General Partner\",\n",
        "    \"LI\": \"Lead Investor\",\n",
        "    \"SIF\": \"Secondary Investee Fund\",\n",
        "    \"IF\": \"Investee Fund\",\n",
        "    \"GPCS\": \"GP's Capital Subscriptions\",\n",
        "    \"RF\": \"Related Funds\",\n",
        "    \"RFM\": \"Related Firms\",\n",
        "    \"PIF\": \"Primary Investee Fund\",\n",
        "    \"DDI\": \"Discretionary Direct Investment\"\n",
        "}\n",
        "\n",
        "def replace_acronyms(text):\n",
        "    doc = nlp(text)\n",
        "    tokens = [token.text for token in doc]\n",
        "\n",
        "    # Iterate over tokens and match with acronyms\n",
        "    new_tokens = []\n",
        "    for token in tokens:\n",
        "        # Find best match from acronym_map\n",
        "        match, score = process.extractOne(token, acronym_map.keys(), scorer=fuzz.partial_ratio)\n",
        "        if score > 80:  # Adjust threshold as needed\n",
        "            # Replace with the full term if there's a good match\n",
        "            new_tokens.append(acronym_map[match])\n",
        "        else:\n",
        "            new_tokens.append(token)\n",
        "\n",
        "    return ' '.join(new_tokens)\n",
        "\n",
        "# Example usage\n",
        "text = \"The CD for the DI is set for next week, and the GP needs to review the RF and DI.\"\n",
        "print(replace_acronyms(text))\n"
      ],
      "metadata": {
        "colab": {
          "base_uri": "https://localhost:8080/"
        },
        "id": "P-5wZcInUEg3",
        "outputId": "8c473f68-5250-4fe9-cc12-d63c55fc8541"
      },
      "execution_count": 33,
      "outputs": [
        {
          "output_type": "stream",
          "name": "stderr",
          "text": [
            "WARNING:root:Applied processor reduces input query to empty string, all comparisons will have score 0. [Query: ',']\n",
            "WARNING:root:Applied processor reduces input query to empty string, all comparisons will have score 0. [Query: '.']\n"
          ]
        },
        {
          "output_type": "stream",
          "name": "stdout",
          "text": [
            "The Closing Date for the Direct Investment is set for next week , and the General Partner needs to review the Related Funds and Direct Investment .\n"
          ]
        }
      ]
    }
  ]
}
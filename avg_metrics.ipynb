{
 "cells": [
  {
   "cell_type": "code",
   "execution_count": 21,
   "metadata": {},
   "outputs": [],
   "source": [
    "import os\n",
    "import glob\n",
    "import pandas as pd\n",
    "import numpy as np"
   ]
  },
  {
   "cell_type": "code",
   "execution_count": 38,
   "metadata": {},
   "outputs": [
    {
     "name": "stdout",
     "output_type": "stream",
     "text": [
      "['C:\\\\Users\\\\venum\\\\Downloads\\\\evalution_metrics\\\\metrcis\\\\sample.csv', 'C:\\\\Users\\\\venum\\\\Downloads\\\\evalution_metrics\\\\metrcis\\\\evalution\\\\sample2.csv']\n",
      "avg_accuracy = 0.5666666666666667\n",
      "avg_Precision =0.675\n",
      "avg_Recall = 0.7\n",
      "avg_F1_Score = 0.625\n"
     ]
    }
   ],
   "source": [
    "def get_csv_files(directory):\n",
    "    csv_files = glob.glob(os.path.join(directory, '**', '*.csv'), recursive=True)\n",
    "    return csv_files\n",
    "\n",
    "\n",
    "def calculate_average_accuracy(csv_files):\n",
    "    Accuracy = []\n",
    "    Precision = []\n",
    "    Recall = []\n",
    "    F1_Score = []\n",
    "    \n",
    "    for file in csv_files:\n",
    "        df = pd.read_csv(file)    \n",
    "        Accuracy.extend(df['Accuracy'].dropna())\n",
    "        Precision.extend(df['Precision'].dropna())\n",
    "        Recall.extend(df['Recall'].dropna())\n",
    "        F1_Score.extend(df['F1 Score'].dropna())\n",
    "    \n",
    "    return np.mean(Accuracy),np.mean(Precision), np.mean(Recall), np.mean(F1_Score)\n",
    "    \n",
    "   \n",
    "\n",
    "##usage\n",
    "# Example usage:\n",
    "directory = r'C:\\Users\\venum\\Downloads\\evalution_metrics'\n",
    "csv_files = get_csv_files(directory)\n",
    "print(csv_files)\n",
    "Accuracy, Precision, Recall, F1_Score  = calculate_average_accuracy(csv_files)\n",
    "\n",
    "print(f\"avg_accuracy = {Accuracy}\")\n",
    "print(f\"avg_Precision ={Precision}\")\n",
    "print(f\"avg_Recall = {Recall}\")\n",
    "print(f\"avg_F1_Score = {F1_Score}\") \n",
    " "
   ]
  },
  {
   "cell_type": "code",
   "execution_count": null,
   "metadata": {},
   "outputs": [],
   "source": []
  },
  {
   "cell_type": "code",
   "execution_count": null,
   "metadata": {},
   "outputs": [],
   "source": []
  }
 ],
 "metadata": {
  "kernelspec": {
   "display_name": "Python 3",
   "language": "python",
   "name": "python3"
  },
  "language_info": {
   "codemirror_mode": {
    "name": "ipython",
    "version": 3
   },
   "file_extension": ".py",
   "mimetype": "text/x-python",
   "name": "python",
   "nbconvert_exporter": "python",
   "pygments_lexer": "ipython3",
   "version": "3.8.5"
  }
 },
 "nbformat": 4,
 "nbformat_minor": 4
}

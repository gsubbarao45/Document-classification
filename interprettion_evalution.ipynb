{
 "cells": [
  {
   "cell_type": "code",
   "execution_count": null,
   "id": "cee85b51",
   "metadata": {},
   "outputs": [],
   "source": []
  },
  {
   "cell_type": "code",
   "execution_count": 8,
   "id": "95ffc903",
   "metadata": {},
   "outputs": [
    {
     "name": "stdout",
     "output_type": "stream",
     "text": [
      "Correctness: 0.75\n",
      "Completeness: 0.75\n"
     ]
    }
   ],
   "source": [
    "from rouge_score import rouge_scorer\n",
    "\n",
    "def compute_single_interpretation_accuracy(gt_interpretations, ai_interpretations, rouge_threshold=0.7):\n",
    "    scorer = rouge_scorer.RougeScorer(['rougeL'], use_stemmer=True)\n",
    "\n",
    "    best_matches = []\n",
    "    total_completeness = 0\n",
    "    total_correctness = 0\n",
    "\n",
    "    # Check each ground truth interpretation against all AI interpretations\n",
    "    for gt_interpret in gt_interpretations:\n",
    "        best_match_score = 0\n",
    "        \n",
    "        for ai_interpret in ai_interpretations:\n",
    "            scores = scorer.score(gt_interpret, ai_interpret)\n",
    "            rouge_l_score = scores['rougeL'].fmeasure\n",
    "            \n",
    "            if rouge_l_score > best_match_score:\n",
    "                best_match_score = rouge_l_score\n",
    "\n",
    "        # Record the best score for this ground truth interpretation\n",
    "        best_matches.append(best_match_score)\n",
    "        \n",
    "        # Check if the score meets the threshold for correctness\n",
    "        if best_match_score >= rouge_threshold:\n",
    "            total_correctness += 1\n",
    "        \n",
    "        # Add to total completeness\n",
    "        total_completeness += best_match_score\n",
    "\n",
    "    # Calculate overall correctness and completeness\n",
    "    overall_correctness = total_correctness / len(gt_interpretations)\n",
    "    overall_completeness = total_completeness / len(gt_interpretations)\n",
    "\n",
    "    return {\n",
    "        \"correctness\": overall_correctness,\n",
    "        \"completeness\": overall_completeness\n",
    "    }\n",
    "\n",
    "# Example usage \n",
    "gt_interpretations = [\"gt interpret1 for para1\", \"gt interpret2 for para1\", \"gt interpret3 for para1\",\"interpretation\"]\n",
    "ai_interpretations = [\"interpretation\",\"ai interpret1 for para1\", \"ai interpret2 for para1\"]\n",
    "\n",
    "\n",
    "results = compute_single_interpretation_accuracy(gt_interpretations, ai_interpretations)\n",
    "\n",
    "print(\"Correctness:\", results[\"correctness\"])\n",
    "print(\"Completeness:\", results[\"completeness\"])\n"
   ]
  },
  {
   "cell_type": "code",
   "execution_count": null,
   "id": "b8587152",
   "metadata": {},
   "outputs": [],
   "source": []
  }
 ],
 "metadata": {
  "kernelspec": {
   "display_name": "Python 3 (ipykernel)",
   "language": "python",
   "name": "python3"
  },
  "language_info": {
   "codemirror_mode": {
    "name": "ipython",
    "version": 3
   },
   "file_extension": ".py",
   "mimetype": "text/x-python",
   "name": "python",
   "nbconvert_exporter": "python",
   "pygments_lexer": "ipython3",
   "version": "3.8.20"
  }
 },
 "nbformat": 4,
 "nbformat_minor": 5
}

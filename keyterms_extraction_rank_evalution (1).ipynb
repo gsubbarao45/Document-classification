{
  "nbformat": 4,
  "nbformat_minor": 0,
  "metadata": {
    "colab": {
      "provenance": []
    },
    "kernelspec": {
      "name": "python3",
      "display_name": "Python 3"
    },
    "language_info": {
      "name": "python"
    }
  },
  "cells": [
    {
      "cell_type": "code",
      "execution_count": null,
      "metadata": {
        "id": "poAy1TLiEktU"
      },
      "outputs": [],
      "source": []
    },
    {
      "cell_type": "code",
      "source": [
        "!pip install  PyPDF2 scikit-learn"
      ],
      "metadata": {
        "colab": {
          "base_uri": "https://localhost:8080/"
        },
        "id": "lIBJ7ofrE64S",
        "outputId": "2a7a4f58-88b0-4e04-e7be-a9706e02c3d7"
      },
      "execution_count": 2,
      "outputs": [
        {
          "output_type": "stream",
          "name": "stdout",
          "text": [
            "Collecting keybert\n",
            "  Downloading keybert-0.8.4.tar.gz (29 kB)\n",
            "  Preparing metadata (setup.py) ... \u001b[?25l\u001b[?25hdone\n",
            "Collecting PyPDF2\n",
            "  Downloading pypdf2-3.0.1-py3-none-any.whl (232 kB)\n",
            "\u001b[2K     \u001b[90m━━━━━━━━━━━━━━━━━━━━━━━━━━━━━━━━━━━━━━━━\u001b[0m \u001b[32m232.6/232.6 kB\u001b[0m \u001b[31m2.4 MB/s\u001b[0m eta \u001b[36m0:00:00\u001b[0m\n",
            "\u001b[?25hRequirement already satisfied: transformers in /usr/local/lib/python3.10/dist-packages (4.41.2)\n",
            "Requirement already satisfied: scikit-learn in /usr/local/lib/python3.10/dist-packages (1.2.2)\n",
            "Collecting sentence-transformers>=0.3.8 (from keybert)\n",
            "  Downloading sentence_transformers-3.0.1-py3-none-any.whl (227 kB)\n",
            "\u001b[2K     \u001b[90m━━━━━━━━━━━━━━━━━━━━━━━━━━━━━━━━━━━━━━━━\u001b[0m \u001b[32m227.1/227.1 kB\u001b[0m \u001b[31m10.9 MB/s\u001b[0m eta \u001b[36m0:00:00\u001b[0m\n",
            "\u001b[?25hRequirement already satisfied: numpy>=1.18.5 in /usr/local/lib/python3.10/dist-packages (from keybert) (1.25.2)\n",
            "Requirement already satisfied: rich>=10.4.0 in /usr/local/lib/python3.10/dist-packages (from keybert) (13.7.1)\n",
            "Requirement already satisfied: filelock in /usr/local/lib/python3.10/dist-packages (from transformers) (3.14.0)\n",
            "Requirement already satisfied: huggingface-hub<1.0,>=0.23.0 in /usr/local/lib/python3.10/dist-packages (from transformers) (0.23.2)\n",
            "Requirement already satisfied: packaging>=20.0 in /usr/local/lib/python3.10/dist-packages (from transformers) (24.0)\n",
            "Requirement already satisfied: pyyaml>=5.1 in /usr/local/lib/python3.10/dist-packages (from transformers) (6.0.1)\n",
            "Requirement already satisfied: regex!=2019.12.17 in /usr/local/lib/python3.10/dist-packages (from transformers) (2024.5.15)\n",
            "Requirement already satisfied: requests in /usr/local/lib/python3.10/dist-packages (from transformers) (2.31.0)\n",
            "Requirement already satisfied: tokenizers<0.20,>=0.19 in /usr/local/lib/python3.10/dist-packages (from transformers) (0.19.1)\n",
            "Requirement already satisfied: safetensors>=0.4.1 in /usr/local/lib/python3.10/dist-packages (from transformers) (0.4.3)\n",
            "Requirement already satisfied: tqdm>=4.27 in /usr/local/lib/python3.10/dist-packages (from transformers) (4.66.4)\n",
            "Requirement already satisfied: scipy>=1.3.2 in /usr/local/lib/python3.10/dist-packages (from scikit-learn) (1.11.4)\n",
            "Requirement already satisfied: joblib>=1.1.1 in /usr/local/lib/python3.10/dist-packages (from scikit-learn) (1.4.2)\n",
            "Requirement already satisfied: threadpoolctl>=2.0.0 in /usr/local/lib/python3.10/dist-packages (from scikit-learn) (3.5.0)\n",
            "Requirement already satisfied: fsspec>=2023.5.0 in /usr/local/lib/python3.10/dist-packages (from huggingface-hub<1.0,>=0.23.0->transformers) (2023.6.0)\n",
            "Requirement already satisfied: typing-extensions>=3.7.4.3 in /usr/local/lib/python3.10/dist-packages (from huggingface-hub<1.0,>=0.23.0->transformers) (4.12.1)\n",
            "Requirement already satisfied: markdown-it-py>=2.2.0 in /usr/local/lib/python3.10/dist-packages (from rich>=10.4.0->keybert) (3.0.0)\n",
            "Requirement already satisfied: pygments<3.0.0,>=2.13.0 in /usr/local/lib/python3.10/dist-packages (from rich>=10.4.0->keybert) (2.16.1)\n",
            "Requirement already satisfied: torch>=1.11.0 in /usr/local/lib/python3.10/dist-packages (from sentence-transformers>=0.3.8->keybert) (2.3.0+cu121)\n",
            "Requirement already satisfied: Pillow in /usr/local/lib/python3.10/dist-packages (from sentence-transformers>=0.3.8->keybert) (9.4.0)\n",
            "Requirement already satisfied: charset-normalizer<4,>=2 in /usr/local/lib/python3.10/dist-packages (from requests->transformers) (3.3.2)\n",
            "Requirement already satisfied: idna<4,>=2.5 in /usr/local/lib/python3.10/dist-packages (from requests->transformers) (3.7)\n",
            "Requirement already satisfied: urllib3<3,>=1.21.1 in /usr/local/lib/python3.10/dist-packages (from requests->transformers) (2.0.7)\n",
            "Requirement already satisfied: certifi>=2017.4.17 in /usr/local/lib/python3.10/dist-packages (from requests->transformers) (2024.6.2)\n",
            "Requirement already satisfied: mdurl~=0.1 in /usr/local/lib/python3.10/dist-packages (from markdown-it-py>=2.2.0->rich>=10.4.0->keybert) (0.1.2)\n",
            "Requirement already satisfied: sympy in /usr/local/lib/python3.10/dist-packages (from torch>=1.11.0->sentence-transformers>=0.3.8->keybert) (1.12.1)\n",
            "Requirement already satisfied: networkx in /usr/local/lib/python3.10/dist-packages (from torch>=1.11.0->sentence-transformers>=0.3.8->keybert) (3.3)\n",
            "Requirement already satisfied: jinja2 in /usr/local/lib/python3.10/dist-packages (from torch>=1.11.0->sentence-transformers>=0.3.8->keybert) (3.1.4)\n",
            "Collecting nvidia-cuda-nvrtc-cu12==12.1.105 (from torch>=1.11.0->sentence-transformers>=0.3.8->keybert)\n",
            "  Using cached nvidia_cuda_nvrtc_cu12-12.1.105-py3-none-manylinux1_x86_64.whl (23.7 MB)\n",
            "Collecting nvidia-cuda-runtime-cu12==12.1.105 (from torch>=1.11.0->sentence-transformers>=0.3.8->keybert)\n",
            "  Using cached nvidia_cuda_runtime_cu12-12.1.105-py3-none-manylinux1_x86_64.whl (823 kB)\n",
            "Collecting nvidia-cuda-cupti-cu12==12.1.105 (from torch>=1.11.0->sentence-transformers>=0.3.8->keybert)\n",
            "  Using cached nvidia_cuda_cupti_cu12-12.1.105-py3-none-manylinux1_x86_64.whl (14.1 MB)\n",
            "Collecting nvidia-cudnn-cu12==8.9.2.26 (from torch>=1.11.0->sentence-transformers>=0.3.8->keybert)\n",
            "  Using cached nvidia_cudnn_cu12-8.9.2.26-py3-none-manylinux1_x86_64.whl (731.7 MB)\n",
            "Collecting nvidia-cublas-cu12==12.1.3.1 (from torch>=1.11.0->sentence-transformers>=0.3.8->keybert)\n",
            "  Using cached nvidia_cublas_cu12-12.1.3.1-py3-none-manylinux1_x86_64.whl (410.6 MB)\n",
            "Collecting nvidia-cufft-cu12==11.0.2.54 (from torch>=1.11.0->sentence-transformers>=0.3.8->keybert)\n",
            "  Using cached nvidia_cufft_cu12-11.0.2.54-py3-none-manylinux1_x86_64.whl (121.6 MB)\n",
            "Collecting nvidia-curand-cu12==10.3.2.106 (from torch>=1.11.0->sentence-transformers>=0.3.8->keybert)\n",
            "  Using cached nvidia_curand_cu12-10.3.2.106-py3-none-manylinux1_x86_64.whl (56.5 MB)\n",
            "Collecting nvidia-cusolver-cu12==11.4.5.107 (from torch>=1.11.0->sentence-transformers>=0.3.8->keybert)\n",
            "  Using cached nvidia_cusolver_cu12-11.4.5.107-py3-none-manylinux1_x86_64.whl (124.2 MB)\n",
            "Collecting nvidia-cusparse-cu12==12.1.0.106 (from torch>=1.11.0->sentence-transformers>=0.3.8->keybert)\n",
            "  Using cached nvidia_cusparse_cu12-12.1.0.106-py3-none-manylinux1_x86_64.whl (196.0 MB)\n",
            "Collecting nvidia-nccl-cu12==2.20.5 (from torch>=1.11.0->sentence-transformers>=0.3.8->keybert)\n",
            "  Using cached nvidia_nccl_cu12-2.20.5-py3-none-manylinux2014_x86_64.whl (176.2 MB)\n",
            "Collecting nvidia-nvtx-cu12==12.1.105 (from torch>=1.11.0->sentence-transformers>=0.3.8->keybert)\n",
            "  Using cached nvidia_nvtx_cu12-12.1.105-py3-none-manylinux1_x86_64.whl (99 kB)\n",
            "Requirement already satisfied: triton==2.3.0 in /usr/local/lib/python3.10/dist-packages (from torch>=1.11.0->sentence-transformers>=0.3.8->keybert) (2.3.0)\n",
            "Collecting nvidia-nvjitlink-cu12 (from nvidia-cusolver-cu12==11.4.5.107->torch>=1.11.0->sentence-transformers>=0.3.8->keybert)\n",
            "  Downloading nvidia_nvjitlink_cu12-12.5.40-py3-none-manylinux2014_x86_64.whl (21.3 MB)\n",
            "\u001b[2K     \u001b[90m━━━━━━━━━━━━━━━━━━━━━━━━━━━━━━━━━━━━━━━━\u001b[0m \u001b[32m21.3/21.3 MB\u001b[0m \u001b[31m49.5 MB/s\u001b[0m eta \u001b[36m0:00:00\u001b[0m\n",
            "\u001b[?25hRequirement already satisfied: MarkupSafe>=2.0 in /usr/local/lib/python3.10/dist-packages (from jinja2->torch>=1.11.0->sentence-transformers>=0.3.8->keybert) (2.1.5)\n",
            "Requirement already satisfied: mpmath<1.4.0,>=1.1.0 in /usr/local/lib/python3.10/dist-packages (from sympy->torch>=1.11.0->sentence-transformers>=0.3.8->keybert) (1.3.0)\n",
            "Building wheels for collected packages: keybert\n",
            "  Building wheel for keybert (setup.py) ... \u001b[?25l\u001b[?25hdone\n",
            "  Created wheel for keybert: filename=keybert-0.8.4-py3-none-any.whl size=39200 sha256=5bea30fa9b92bfaa1134c27f20153a59f4f6345387748f2dde0ae9a36a9b59a0\n",
            "  Stored in directory: /root/.cache/pip/wheels/97/ef/4c/6588bd7072b0cc04225b40e639b991e49ebd4e21fb81f0acee\n",
            "Successfully built keybert\n",
            "Installing collected packages: PyPDF2, nvidia-nvtx-cu12, nvidia-nvjitlink-cu12, nvidia-nccl-cu12, nvidia-curand-cu12, nvidia-cufft-cu12, nvidia-cuda-runtime-cu12, nvidia-cuda-nvrtc-cu12, nvidia-cuda-cupti-cu12, nvidia-cublas-cu12, nvidia-cusparse-cu12, nvidia-cudnn-cu12, nvidia-cusolver-cu12, sentence-transformers, keybert\n",
            "Successfully installed PyPDF2-3.0.1 keybert-0.8.4 nvidia-cublas-cu12-12.1.3.1 nvidia-cuda-cupti-cu12-12.1.105 nvidia-cuda-nvrtc-cu12-12.1.105 nvidia-cuda-runtime-cu12-12.1.105 nvidia-cudnn-cu12-8.9.2.26 nvidia-cufft-cu12-11.0.2.54 nvidia-curand-cu12-10.3.2.106 nvidia-cusolver-cu12-11.4.5.107 nvidia-cusparse-cu12-12.1.0.106 nvidia-nccl-cu12-2.20.5 nvidia-nvjitlink-cu12-12.5.40 nvidia-nvtx-cu12-12.1.105 sentence-transformers-3.0.1\n"
          ]
        }
      ]
    },
    {
      "cell_type": "code",
      "source": [
        "import PyPDF2\n",
        "\n",
        "\n",
        "def extract_text(pdf_file_path):\n",
        "    # Initialize PDF reader\n",
        "    pdf_reader = PyPDF2.PdfReader(pdf_file_path)\n",
        "\n",
        "    # Extract text from PDF\n",
        "    text = \"\"\n",
        "    for page in pdf_reader.pages:\n",
        "        text += page.extract_text()\n",
        "\n",
        "    return text\n",
        "\n",
        "\n",
        "\n",
        "# Path to  PDF file\n",
        "pdf_path = \"/content/drive/MyDrive/dataset/SADA.pdf\"\n",
        "\n",
        "# Extract text with formatting cues from PDF\n",
        "text = extract_text(pdf_path)\n"
      ],
      "metadata": {
        "colab": {
          "base_uri": "https://localhost:8080/"
        },
        "id": "dbObdLDhjcVX",
        "outputId": "029b8d58-55dd-465b-bec3-c0f208970c00"
      },
      "execution_count": 3,
      "outputs": [
        {
          "output_type": "stream",
          "name": "stderr",
          "text": [
            "/usr/local/lib/python3.10/dist-packages/sentence_transformers/cross_encoder/CrossEncoder.py:11: TqdmExperimentalWarning: Using `tqdm.autonotebook.tqdm` in notebook mode. Use `tqdm.tqdm` instead to force console mode (e.g. in jupyter console)\n",
            "  from tqdm.autonotebook import tqdm, trange\n"
          ]
        }
      ]
    },
    {
      "cell_type": "code",
      "source": [
        "import pandas as pd\n",
        "from sklearn.feature_extraction.text import TfidfVectorizer\n",
        "from sklearn.feature_extraction.text import ENGLISH_STOP_WORDS\n",
        "\n",
        "\n",
        "def extract_keywords(text, num_keywords=10):\n",
        "    # Initialize the TF-IDF Vectorizer\n",
        "    tfidf_vectorizer = TfidfVectorizer(stop_words='english')\n",
        "\n",
        "    # Fit and transform the text\n",
        "    tfidf_matrix = tfidf_vectorizer.fit_transform([text])\n",
        "\n",
        "    # Get the feature names (keywords)\n",
        "    feature_names = tfidf_vectorizer.get_feature_names_out()\n",
        "\n",
        "    # Get the scores of the features\n",
        "    tfidf_scores = tfidf_matrix.toarray().flatten()\n",
        "\n",
        "    # Create a DataFrame to display the keywords and their scores\n",
        "    tfidf_df = pd.DataFrame({\n",
        "        'keyword': feature_names,\n",
        "        'score': tfidf_scores\n",
        "    })\n",
        "\n",
        "    # Sort the DataFrame by score in descending order\n",
        "    tfidf_df = tfidf_df.sort_values(by='score', ascending=False)\n",
        "\n",
        "    # Return the top N keywords\n",
        "    keywords_df = tfidf_df.head(num_keywords)\n",
        "    return keywords_df, keywords_df[\"keyword\"].unique().tolist()\n",
        "\n",
        "# Extract and print the top 10 keywords\n",
        "keywords_df, predicted_keywords = extract_keywords(text, num_keywords=10)\n",
        "print(keywords_df)"
      ],
      "metadata": {
        "colab": {
          "base_uri": "https://localhost:8080/"
        },
        "id": "VThG8uoWjdXV",
        "outputId": "16440f68-bc31-4f0b-ad29-4c23bb10d428"
      },
      "execution_count": 14,
      "outputs": [
        {
          "output_type": "stream",
          "name": "stdout",
          "text": [
            "     keyword     score\n",
            "393     loan  0.386014\n",
            "20        12  0.373147\n",
            "127     3601  0.321678\n",
            "259  charges  0.205874\n",
            "511   rupees  0.205874\n",
            "287   credit  0.205874\n",
            "231     bank  0.193007\n",
            "249     card  0.167273\n",
            "347     hdfc  0.154406\n",
            "449  payment  0.141538\n"
          ]
        }
      ]
    },
    {
      "cell_type": "code",
      "source": [
        " predicted_keywords"
      ],
      "metadata": {
        "colab": {
          "base_uri": "https://localhost:8080/"
        },
        "id": "ZD-Ww0Y_jdaR",
        "outputId": "fae5d547-916c-4a99-b1e8-ec93c8cb39bd"
      },
      "execution_count": 13,
      "outputs": [
        {
          "output_type": "execute_result",
          "data": {
            "text/plain": [
              "['loan',\n",
              " '12',\n",
              " '3601',\n",
              " 'charges',\n",
              " 'rupees',\n",
              " 'credit',\n",
              " 'bank',\n",
              " 'card',\n",
              " 'hdfc',\n",
              " 'payment']"
            ]
          },
          "metadata": {},
          "execution_count": 13
        }
      ]
    },
    {
      "cell_type": "code",
      "source": [
        "import ast\n",
        "\n",
        "predicted =str(predicted_keywords)\n",
        "\n",
        "predicted = ast.literal_eval(predicted)\n",
        "\n",
        "actual = ['charges', 'rupees', 'credit', 'bank', \"hdfc\",\"payment\"]\n",
        "\n",
        "#You need to pass input file object here\n",
        "input_excel_file_name = pdf_path"
      ],
      "metadata": {
        "id": "ITSGx3dDjdc_"
      },
      "execution_count": 15,
      "outputs": []
    },
    {
      "cell_type": "code",
      "source": [],
      "metadata": {
        "id": "-Zr35AWkqmeY"
      },
      "execution_count": null,
      "outputs": []
    },
    {
      "cell_type": "code",
      "source": [
        "import csv\n",
        "from sklearn.metrics import precision_score, recall_score, f1_score, accuracy_score\n",
        "\n",
        "def export_evalution_metrics_as_csv(input_excel_file_name, output_location, actual, predicted):\n",
        "\n",
        "    actual = sorted(actual, key=len)\n",
        "    predicted = sorted(predicted, key=len)\n",
        "\n",
        "    tepm = input_excel_file_name\n",
        "\n",
        "    input_excel_file_name = input_excel_file_name.split(\"/\")[-1]\n",
        "    input_excel_file_name = input_excel_file_name.split(\".\")[0]\n",
        "    # Binarize the predicted and actual key terms\n",
        "    all_terms = list(set(predicted + actual))\n",
        "    y_true = [1 if term in actual else 0 for term in all_terms]\n",
        "    y_pred = [1 if term in predicted else 0 for term in all_terms]\n",
        "\n",
        "    # Calculate precision, recall, f1 score, and accuracy\n",
        "    precision = precision_score(y_true, y_pred)\n",
        "    recall = recall_score(y_true, y_pred)\n",
        "    f1 = f1_score(y_true, y_pred)\n",
        "    accuracy = accuracy_score(y_true, y_pred)\n",
        "\n",
        "    # Print the scores\n",
        "    print(f\"Precision: {precision:.2f}\")\n",
        "    print(f\"Recall: {recall:.2f}\")\n",
        "    print(f\"F1 Score: {f1:.2f}\")\n",
        "    print(f\"Accuracy: {accuracy:.2f}\")\n",
        "\n",
        "    output_location += f\"/{input_excel_file_name}_keytrems_evalution_metrics.csv\"\n",
        "\n",
        "    # Write the scores to a CSV file\n",
        "    with open(output_location, mode='w', newline='') as file:\n",
        "        writer = csv.writer(file)\n",
        "        writer.writerow([\"Extracted file name\", temp])\n",
        "        writer.writerow([\"Actual keyterms :\"] + actual)\n",
        "        writer.writerow([\"Predicted keyterms :\"] + predicted)\n",
        "        writer.writerow([\"\", \"\"])\n",
        "        writer.writerow([\"Metric\", \"Value\"])\n",
        "        writer.writerow([\"Precision\", precision])\n",
        "        writer.writerow([\"Recall\", recall])\n",
        "        writer.writerow([\"F1 Score\", f1])\n",
        "        writer.writerow([\"Accuracy\", accuracy])\n",
        "\n",
        "    print(f\"Metrics written to {output_location}\")\n",
        "\n",
        ""
      ],
      "metadata": {
        "id": "7rPtOMRjjdfm"
      },
      "execution_count": 22,
      "outputs": []
    },
    {
      "cell_type": "code",
      "source": [
        "output_location = r\"/content/drive/MyDrive/results\"\n",
        "\n",
        "export_evalution_metrics_as_csv(input_excel_file_name, output_location, actual, predicted)"
      ],
      "metadata": {
        "colab": {
          "base_uri": "https://localhost:8080/"
        },
        "id": "N8h3rwNXlsga",
        "outputId": "f0c14e54-a254-44ab-ff03-b1632ea9476c"
      },
      "execution_count": 23,
      "outputs": [
        {
          "output_type": "stream",
          "name": "stdout",
          "text": [
            "Precision: 0.60\n",
            "Recall: 1.00\n",
            "F1 Score: 0.75\n",
            "Accuracy: 0.60\n",
            "Metrics written to /content/drive/MyDrive/results/SADA_keytrems_evalution_metrics.csv\n"
          ]
        }
      ]
    },
    {
      "cell_type": "code",
      "source": [],
      "metadata": {
        "id": "so292me-qMJX"
      },
      "execution_count": null,
      "outputs": []
    },
    {
      "cell_type": "code",
      "source": [],
      "metadata": {
        "id": "n4VfxFlXqMMh"
      },
      "execution_count": null,
      "outputs": []
    },
    {
      "cell_type": "code",
      "source": [
        "#!pip install xlsxwriter"
      ],
      "metadata": {
        "colab": {
          "base_uri": "https://localhost:8080/"
        },
        "id": "QsBmLgn-jdiV",
        "outputId": "b6be825e-0005-4a96-870e-968c60ffcdd5"
      },
      "execution_count": 24,
      "outputs": [
        {
          "output_type": "stream",
          "name": "stdout",
          "text": [
            "Collecting xlsxwriter\n",
            "  Downloading XlsxWriter-3.2.0-py3-none-any.whl (159 kB)\n",
            "\u001b[2K     \u001b[90m━━━━━━━━━━━━━━━━━━━━━━━━━━━━━━━━━━━━━━━━\u001b[0m \u001b[32m159.9/159.9 kB\u001b[0m \u001b[31m1.3 MB/s\u001b[0m eta \u001b[36m0:00:00\u001b[0m\n",
            "\u001b[?25hInstalling collected packages: xlsxwriter\n",
            "Successfully installed xlsxwriter-3.2.0\n"
          ]
        }
      ]
    },
    {
      "cell_type": "code",
      "source": [
        "import pandas as pd\n",
        "import xlsxwriter\n",
        "from sklearn.metrics import precision_score, recall_score, f1_score, accuracy_score\n",
        "\n",
        "def export_evalution_metrics_as_excel(input_excel_file_name, output_location, actual, predicted):\n",
        "    actual = sorted(actual, key=len)\n",
        "    predicted = sorted(predicted, key=len)\n",
        "\n",
        "    temp = input_excel_file_name\n",
        "    input_excel_file_name = input_excel_file_name.split(\"/\")[-1]\n",
        "    input_excel_file_name = input_excel_file_name.split(\".\")[0]\n",
        "    # Binarize the predicted and actual key terms\n",
        "    all_terms = list(set(predicted + actual))\n",
        "    y_true = [1 if term in actual else 0 for term in all_terms]\n",
        "    y_pred = [1 if term in predicted else 0 for term in all_terms]\n",
        "\n",
        "    # Calculate precision, recall, f1 score, and accuracy\n",
        "    precision = precision_score(y_true, y_pred)\n",
        "    recall = recall_score(y_true, y_pred)\n",
        "    f1 = f1_score(y_true, y_pred)\n",
        "    accuracy = accuracy_score(y_true, y_pred)\n",
        "\n",
        "    # Print the scores\n",
        "    print(f\"Precision: {precision:.2f}\")\n",
        "    print(f\"Recall: {recall:.2f}\")\n",
        "    print(f\"F1 Score: {f1:.2f}\")\n",
        "    print(f\"Accuracy: {accuracy:.2f}\")\n",
        "\n",
        "    output_file_path = f\"{output_location}/{input_excel_file_name}_keyterms_evaluation_metrics.xlsx\"\n",
        "\n",
        "    # Create a workbook and add a worksheet\n",
        "    workbook = xlsxwriter.Workbook(output_file_path)\n",
        "    worksheet = workbook.add_worksheet()\n",
        "\n",
        "    # Add a bold format to use for the headers\n",
        "    bold = workbook.add_format({'bold': True})\n",
        "\n",
        "    # Write the extracted file name\n",
        "    worksheet.write('A1', 'Extracted file name', bold)\n",
        "    worksheet.write('B1', temp)\n",
        "\n",
        "    # Write the actual key terms\n",
        "    worksheet.write('A2', 'Actual keyterms :', bold)\n",
        "    worksheet.write_row('B2', actual)\n",
        "\n",
        "    # Write the predicted key terms\n",
        "    worksheet.write('A3', 'Predicted keyterms :', bold)\n",
        "    worksheet.write_row('B3', predicted)\n",
        "\n",
        "    # Leave a blank row\n",
        "    worksheet.write('A4', '', bold)\n",
        "    worksheet.write('B4', '')\n",
        "\n",
        "    # Write the metrics headers\n",
        "    worksheet.write('A5', 'Metric', bold)\n",
        "    worksheet.write('B5', 'Value', bold)\n",
        "\n",
        "    # Write the metrics\n",
        "    metrics = [('Precision', precision), ('Recall', recall), ('F1 Score', f1), ('Accuracy', accuracy)]\n",
        "    row = 5\n",
        "    for metric, value in metrics:\n",
        "        worksheet.write(row, 0, metric)\n",
        "        worksheet.write(row, 1, value)\n",
        "        row += 1\n",
        "\n",
        "    workbook.close()\n",
        "\n",
        "    print(f\"Metrics written to {output_file_path}\")\n",
        "\n",
        "\n",
        "output_location =  r\"/content/drive/MyDrive/results\"\n",
        "\n",
        "export_evalution_metrics_as_excel(input_excel_file_name, output_location, actual, predicted)"
      ],
      "metadata": {
        "colab": {
          "base_uri": "https://localhost:8080/"
        },
        "id": "MrWIsCodjdlI",
        "outputId": "15ef8133-3e00-4c9c-fefd-47eb8f4a076b"
      },
      "execution_count": 27,
      "outputs": [
        {
          "output_type": "stream",
          "name": "stdout",
          "text": [
            "Precision: 0.60\n",
            "Recall: 1.00\n",
            "F1 Score: 0.75\n",
            "Accuracy: 0.60\n",
            "Metrics written to /content/drive/MyDrive/results/SADA_keyterms_evaluation_metrics.xlsx\n"
          ]
        }
      ]
    },
    {
      "cell_type": "code",
      "source": [],
      "metadata": {
        "id": "ZjBMl_lDjdoZ"
      },
      "execution_count": null,
      "outputs": []
    },
    {
      "cell_type": "code",
      "source": [],
      "metadata": {
        "id": "Zxt4ZXiajdrH"
      },
      "execution_count": null,
      "outputs": []
    },
    {
      "cell_type": "code",
      "source": [],
      "metadata": {
        "id": "Zl_JIgfpjduP"
      },
      "execution_count": null,
      "outputs": []
    },
    {
      "cell_type": "code",
      "source": [],
      "metadata": {
        "id": "uTAnZddCjdxh"
      },
      "execution_count": null,
      "outputs": []
    },
    {
      "cell_type": "code",
      "source": [],
      "metadata": {
        "id": "HvnoBmYljd0p"
      },
      "execution_count": null,
      "outputs": []
    },
    {
      "cell_type": "code",
      "source": [],
      "metadata": {
        "id": "cMcTyhWsjd3z"
      },
      "execution_count": null,
      "outputs": []
    },
    {
      "cell_type": "code",
      "source": [],
      "metadata": {
        "id": "aOFkhpzwjd61"
      },
      "execution_count": null,
      "outputs": []
    },
    {
      "cell_type": "code",
      "source": [],
      "metadata": {
        "id": "GSCSXOWmjekf"
      },
      "execution_count": null,
      "outputs": []
    },
    {
      "cell_type": "code",
      "source": [],
      "metadata": {
        "id": "HmQBXzVkjen3"
      },
      "execution_count": null,
      "outputs": []
    },
    {
      "cell_type": "code",
      "source": [
        "!pip install keybert PyPDF2 transformers"
      ],
      "metadata": {
        "id": "NS9NaBS2jZT0"
      },
      "execution_count": null,
      "outputs": []
    },
    {
      "cell_type": "code",
      "source": [
        "import PyPDF2\n",
        "from keybert import KeyBERT\n",
        "import re\n",
        "\n",
        "def extract_text(pdf_file_path):\n",
        "    # Initialize PDF reader\n",
        "    pdf_reader = PyPDF2.PdfReader(pdf_file_path)\n",
        "\n",
        "    # Extract text from PDF\n",
        "    text = \"\"\n",
        "    for page in pdf_reader.pages:\n",
        "        text += page.extract_text()\n",
        "\n",
        "    return text\n",
        "\n",
        "\n",
        "\n",
        "# Path to  PDF file\n",
        "pdf_path = \"/content/drive/MyDrive/dataset/SADA.pdf\"\n",
        "\n",
        "# Extract text with formatting cues from PDF\n",
        "text = extract_text(pdf_path)\n",
        "\n",
        "# Initialize KeyBERT model\n",
        "kw_model = KeyBERT()\n",
        "\n",
        "# Extract keywords\n",
        "keywords = kw_model.extract_keywords(text)\n"
      ],
      "metadata": {
        "id": "1v5TQ-9QEttb"
      },
      "execution_count": null,
      "outputs": []
    },
    {
      "cell_type": "code",
      "source": [
        "keywords"
      ],
      "metadata": {
        "colab": {
          "base_uri": "https://localhost:8080/"
        },
        "id": "63V3mfYTE1nR",
        "outputId": "7aaf3e48-c08d-4f55-e021-f815037fd900"
      },
      "execution_count": null,
      "outputs": [
        {
          "output_type": "execute_result",
          "data": {
            "text/plain": [
              "[('hdfcbank', 0.4359),\n",
              " ('loan', 0.4093),\n",
              " ('repayment24', 0.3744),\n",
              " ('insta', 0.3471),\n",
              " ('annum21', 0.3324)]"
            ]
          },
          "metadata": {},
          "execution_count": 13
        }
      ]
    },
    {
      "cell_type": "code",
      "source": [
        "text"
      ],
      "metadata": {
        "colab": {
          "base_uri": "https://localhost:8080/",
          "height": 139
        },
        "id": "fQ5gpi7zMLIW",
        "outputId": "a26acb8d-c168-4ce0-9d18-b3449de7e413"
      },
      "execution_count": null,
      "outputs": [
        {
          "output_type": "execute_result",
          "data": {
            "text/plain": [
              "'15-Mar-2024\\nMr./Ms. PAMMI VENU MADHAV\\nNO 2-190 DUDIYA TANDA CHLKUR M\\nCHILKUR\\nNALGONDA 508206\\n\\xa0\\nDear Customer, \\nSubject: Insta loan on your HDFC Bank Credit Card Number: 457704XXXXXX6561\\n\\xa0\\nWe are pleased to grant you Insta loan as per the details stated below. The loan amount would be\\ndisbursed to you as per your request.\\nLoan no.\\xa0\\xa0\\xa0 \\xa0\\xa0\\xa0\\xa0\\xa0\\xa0\\xa0\\xa0\\xa0\\xa0\\xa0\\xa0\\xa0\\xa0\\xa0\\xa0\\xa0\\xa0\\xa0\\xa0\\xa0\\xa0\\xa0\\xa0\\xa0\\xa0\\xa0\\xa0\\xa00000000000103733415\\nUnsecured Loan Type \\xa0\\xa0\\xa0\\xa0\\xa0\\xa0\\xa0Insta Loan\\nAmount\\xa0\\xa0\\xa0 \\xa0\\xa0\\xa0\\xa0\\xa0\\xa0\\xa0\\xa0\\xa0\\xa0\\xa0\\xa0\\xa0\\xa0\\xa0\\xa0\\xa0\\xa0\\xa0\\xa0\\xa0\\xa0\\xa0\\xa0\\xa0\\xa0\\xa0\\xa0\\xa0Rs.70000.00\\nFixed Interest Rate \\xa0\\xa0\\xa0\\xa0\\xa0\\xa0\\xa0\\xa0\\xa0\\xa0\\xa0\\xa0\\xa01.76%\\xa0p.m.\\nTenure \\xa0\\xa0\\xa0\\xa0\\xa0\\xa0\\xa0\\xa0\\xa0\\xa0\\xa0\\xa0\\xa0\\xa0\\xa0\\xa0\\xa0\\xa0\\xa0\\xa0\\xa0\\xa0\\xa0\\xa0\\xa0\\xa0\\xa0\\xa0\\xa0\\xa0\\xa0\\xa0\\xa024 Months\\nEMI \\xa0\\xa0\\xa0\\xa0\\xa0\\xa0\\xa0\\xa0\\xa0\\xa0\\xa0\\xa0\\xa0\\xa0\\xa0\\xa0\\xa0\\xa0\\xa0\\xa0\\xa0\\xa0\\xa0\\xa0\\xa0\\xa0\\xa0\\xa0\\xa0\\xa0\\xa0\\xa0\\xa0\\xa0\\xa0\\xa0\\xa0\\xa0Rs.3601.12(Excluding GST @ 18%)*\\nProcessing Fee \\xa0\\xa0\\xa0\\xa0\\xa0\\xa0\\xa0\\xa0\\xa0\\xa0\\xa0\\xa0\\xa0\\xa0\\xa0\\xa0\\xa0\\xa0\\xa0Rs.999.00\\nPre-closure charges \\xa0\\xa0\\xa0\\xa0\\xa0\\xa0\\xa0\\xa0\\xa0\\xa03% (of principal outstanding at the time of closure) + GST @ 18%\\n\\xa0\\nPlease find the loan details provided in the below Key Fact Statement:\\nSr.\\xa0No\\xa0 Parameter Details\\ni Loan\\xa0amount\\xa0(in\\xa0Rupees)\\xa0 70000.00\\niiRate of interest percentage per\\nannum21.12\\niiiTotal interest charge during the\\nentire tenor of the loan (in\\nRupees)16098.39\\nivOther up-front charges, if any\\n(break-up of each component to\\nbe given below) (in Rupees)999.00\\naProcessing fees, if any (in\\nRupees)999.00\\nb Credit Protect- Insurance -\\nc Any\\xa0Other\\xa0Insurance\\xa0Charges -\\nd Documentation Charge -\\neOthers (if any) (in Rupees) (details\\nto be provided)-vNet disbursed amount (i) (in\\nRupees)70000.00\\nviTotal amount to be paid by the\\nborrower (sum of(i), (iii) and (iv))\\n(in Rupees)87097.39\\nviiAnnual Percentage Rate- Effective\\nannualized interest rate (in\\npercentage) (computed on net\\ndisbursed amount using IRR\\napproach and reducing balance\\nmethod)22.63\\nviii Tenor of the Loan (in months) 24\\nixRepayment frequency by the\\nborrowerMonthly\\nxNumber of instalments of\\nrepayment24\\nxiAmount of each instalment of\\nrepayment (in Rupees)3601.12\\n\\xa0 Details about Contingent Charges \\xa0xiiRate of annualized penal charges\\nin case of delayed payments (if\\nany)Since EMI is billed as a part of\\ncredit card statement and included\\nin the credit card outstanding and\\nMAD, any non-payment shall\\nattract late payment charges and\\nfinance charges as applicable to\\nrespective card variant on total\\ncredit card outstanding.\\nCharges\\xa0Applicable as per the\\nCredit Card Variant &as\\nmentioned in the MITC in the\\nwebsite Terms and Conditions.\\nRefer:\\xa0\\nhttps://www.hdfcbank.com/content\\n/bbp/repositories/723fb80a-2dde-\\n42a3-9793-\\n7ae1be57c87f/?path=/Personal/P\\nay/Cards/Credit%20Card/Credit%\\n20Card%20Landing%20Page/\\nManage%20Your%20Credit%20C\\nards%20PDFs/MITC%201.64.pdf\\n*The charges above are the\\nStandard Penal charges as stated\\nin the MITC Link mentioned above\\nfor credit cards and shall be billed\\nas part of the Overall Credit Card\\nbilling statement on the total\\noutstanding due. These charges\\nare not in the nature of any\\nadditional penal charges.\\nxiiiRate of annualized other penal\\ncharges (if any); (details to be\\nprovided)Payment Return Fees: 2% of the\\npayment amount, min Rs450, max\\nRs4999\\n\\xa0 Other Disclosures \\xa0\\nxiv Cooling off/look up period 3 days\\xa0\\n*GST is applicable on Interest and fees\\n*GST is not added in the APR calculation\\nFor the First EMI, the Interest will be calculated from the loan booking date till the payment due\\ndate. This is effective only for loans booked from September 5th, 2018 onwards.\\nIn case you require any further assistance, please contact PhoneBanking within 7 days of\\nreceiving this letter.\\n\\xa0\\nMost important Terms &Conditions\\nThe loan amount will be blocked against the credit limit. Cash limit will be zeroised and you will\\nbe unable to withdraw cash using your HDFC Bank Credit Card. Loan amount will be credited to\\nyour savings account and reflect in your account balance post any applicable debits (negative balance if\\nany) on the respective account. The facility of cash withdrawal would be restored on payment of your\\nloan in full / pre closure of the loan whichever is earlier. Monthly payment dues will include EMI and GST\\non the interest amount of the EMI. This monthly payment due will be billed in the monthlyxvDetails of LSP acting as recovery\\nagent and authorized to approach\\nthe borrowerhttps://www.hdfcbank.com/content\\n/bbp/repositories/723fb80a-2dde-\\n42a3-9793-\\n7ae1be57c87f/?path=/Common%\\n20Overlays/Feedback/PDFS/Bank\\ning%20Ombudsman%20Scheme/\\nActive-Collection-Vendor-List.pdf\\n\\xa0\\nxviName, designation, address and\\nphone number of nodal grievance\\nredressal officer designated\\nspecifically to deal with Fintech/\\ndigital lending related\\ncomplaints/issuesMr. Kannan Ramaseshan\\n(Grievance Redressal Officer)\\nGrievance Redressal Cell, HDFC\\nBank Limited,ted,\\n1st Floor, Empire Plaza-1, Lal\\nBahadur Shastri Marg, Chandan\\nNagar, Vikroli West, Chandan\\nNagar, Vikroli West, Mumbai-\\n400083\\nCall: 18002664060\\nMonday to Saturday\\n9.30am to 5.30pm\\nThis facility is not available on 2nd\\n% 4th Saturdays, all Sundays and\\nBank Holidays\\n\\xa0\\nxvii Privacy Policies of HDFC Bankhttps://www.hdfcbank.com/person\\nal/useful-links/privacystatement starting from the immediate billing cycle date and be part of the Minimum Amount Due\\n(MAD) appearing in your monthly HDFC Bank Credit Card statement. Payment of MAD is required\\nto keep your card regular. Interest &other applicable charges are levied on the balance outstanding.\\nGST @ 18% is applicable on (i) Interest amount of EMI on a monthly basis (ii) Processing fee and (iii)\\nPre-closure charges. Processing fee (as applicable) amount will get levied during the immediate billing\\ncycle post loan booking. Partial pre-payment or partial closure is not permitted on this loan. The loan can\\nbe pre closed any time during the tenure. In case of pre-closure of the loan, a charge, currently 3% of\\nthe balance principal outstanding plus GST @ 18% will be applicable. As the pre-closure charge is\\nsubject to change, we request you to contact phone banking for the applicable charge if you decide to\\npre-close the Loan. HDFC Bank reserves the right to revise the pre-closure penalty at its discretion.\\nAdditional interest if any on the principal outstanding from last statement date till date of loan pre closure\\nneed to be paid by customer. The loan once approved and processed cannot be cancelled. Tenure\\nconfirmed at the time of booking cannot be changed. The loan amount should not be re-invested in stock\\nmarkets, mutual funds or any speculative purpose. If your HDFC Bank Credit Card get closed before all\\nthe installments have been charged, the loan outstanding will get debited to your card account. In case\\nof default in payment of EMI on the Due date, your loan account services shall be suspended and could\\nfurther be terminated. Notwithstanding anything stated above, the continuation of the loan shall be at the\\nsole discretion of the bank and outstanding will be payable to the bank on demand. HDFC Bank\\nreserves the right at any time, without previous notice, to add, alter, modify, change or vary all or any of\\nthese terms and conditions or to replace wholly or in part this scheme by another offer, whether similar\\nto the offer or not, or to withdraw it all together. You will not hold HDFC Bank responsible for, or liable\\nfor, any actions, claims, demands, losses, damages, costs, charges, expenses, which a participant may\\nsuffer, sustain or incur by the Offer. GST will not be reversed under any circumstances. Processing fee\\nwill not be reversed under any circumstances.\\n\\xa0\\nAll disputes, if any, arising out of or in connection with or as a result of the Offer or otherwise\\nrelating hereto shall be subject to the exclusive jurisdiction of the competent Courts/Tribunals in\\nChennai only. The terms and conditions contained in the Card member Agreement apply over\\nand above the terms and conditions for this Loan.\\nEnclosed Amortization schedule of Loan Number 0000000000103733415 for loan Amount\\n70000.00 (*GST 18%), You can also view the amortization schedule by logging into NetBanking\\n>Cards> Credit cards >Enquire >Loan Details/ Netbanking> Credit Cards> Linked Loans.\\n\\xa0\\nHDFC Bank Cards Division, \\n8, Lattice Bridge Road, Thiruvanmiyur, Chennai 600041.\\n Inst\\nalm\\nent\\nNo.EMI\\nbilling\\ndateOutstandi\\nng\\nPrincipal\\n(in\\nRupees)Principa\\nl (in\\nRupees)Interest (in\\nRupees)Instalmen\\nt (in\\nRupees)Inst\\nalm\\nent\\nNo.EMI\\nbilling\\ndateOutstandi\\nng\\nPrincipal\\n(in\\nRupees)Principa\\nl (in\\nRupees)Interest (in\\nRupees)Instalmen\\nt (in\\nRupees)\\n116-03-\\n202467630.88 2369.12 903.44 3272.56 1316-03-\\n202535729.69 2920.87 680.25 3601.12\\n216-04-\\n202465220.06 2410.82 1190.30 3601.12 1416-04-\\n202532757.41 2972.28 628.84 3601.12 \\nThis document is digitally signed by an authorised signatory of HDFC Bank. To view the digital signature, please\\nopen the PDF document in Adobe Acrobat Reader and click on Signature Panel.316-05-\\n202462766.81 2453.25 1147.87 3601.12 1516-05-\\n202529732.82 3024.59 576.53 3601.12\\n416-06-\\n202460270.39 2496.42 1104.70 3601.12 1616-06-\\n202526655.00 3077.82 523.30 3601.12\\n516-07-\\n202457730.03 2540.36 1060.76 3601.12 1716-07-\\n202523523.01 3131.99 469.13 3601.12\\n616-08-\\n202455144.96 2585.07 1016.05 3601.12 1816-08-\\n202520335.89 3187.12 414.00 3601.12\\n716-09-\\n202452514.39 2630.57 970.55 3601.12 1916-09-\\n202517092.68 3243.21 357.91 3601.12\\n816-10-\\n202449837.52 2676.87 924.25 3601.12 2016-10-\\n202513792.39 3300.29 300.83 3601.12\\n916-11-\\n202447113.54 2723.98 877.14 3601.12 2116-11-\\n202510434.02 3358.37 242.75 3601.12\\n1016-12-\\n202444341.62 2771.92 829.20 3601.12 2216-12-\\n20257016.54 3417.48 183.64 3601.12\\n1116-01-\\n202541520.91 2820.71 780.41 3601.12 2316-01-\\n20263538.91 3477.63 123.49 3601.12\\n1216-02-\\n202538650.56 2870.35 730.77 3601.12 2416-02-\\n20260.00 3538.91 62.28 3601.19\\nDigitally signed by\\nParag Rao (HDFC Bank Ltd)\\nFri Mar 15 16:11:13 IST 2024\\nClick to view e-signature details'"
            ],
            "application/vnd.google.colaboratory.intrinsic+json": {
              "type": "string"
            }
          },
          "metadata": {},
          "execution_count": 14
        }
      ]
    },
    {
      "cell_type": "code",
      "source": [],
      "metadata": {
        "id": "av7GahkLMv2A"
      },
      "execution_count": null,
      "outputs": []
    },
    {
      "cell_type": "code",
      "source": [
        "from keybert import KeyBERT\n",
        "\n",
        "# Define input text\n",
        "text =text\n",
        "\n",
        "# Initialize KeyBERT model\n",
        "model = KeyBERT('distilbert-base-nli-mean-tokens')\n",
        "\n",
        "# Extract keywords using KeyBERT\n",
        "#keywords = model.extract_keywords(text, keyphrase_ngram_range=(1, 1), stop_words='english', use_maxsum=True, nr_candidates=20, top_n=10)\n",
        "keywords = model.extract_keywords(text)\n",
        "# Print extracted keywords\n",
        "print(\"Extracted Keywords:\")\n",
        "for keyword, _ in keywords:\n",
        "    print(keyword)\n"
      ],
      "metadata": {
        "colab": {
          "base_uri": "https://localhost:8080/"
        },
        "id": "MW8TGphdO3DT",
        "outputId": "8f06e0de-002b-4bfd-e0c9-f5276aa10e3c"
      },
      "execution_count": null,
      "outputs": [
        {
          "output_type": "stream",
          "name": "stdout",
          "text": [
            "Extracted Keywords:\n",
            "202520335\n",
            "202538650\n",
            "202535729\n",
            "202460270\n",
            "202462766\n"
          ]
        }
      ]
    },
    {
      "cell_type": "code",
      "source": [],
      "metadata": {
        "id": "-6G8B4cme4YZ"
      },
      "execution_count": null,
      "outputs": []
    },
    {
      "cell_type": "code",
      "source": [
        "from keybert import KeyBERT\n",
        "\n",
        "# Define input text\n",
        "text = text\n",
        "\n",
        "# Initialize KeyBERT model with different BERT-based models\n",
        "\n",
        "# Example 1: distilbert-base-nli-stsb-mean-tokens\n",
        "model_distilbert_stsb = KeyBERT('distilbert-base-nli-stsb-mean-tokens')\n",
        "keywords_distilbert_stsb = model_distilbert_stsb.extract_keywords(text)\n",
        "\n",
        "# Example 2: bert-base-nli-mean-tokens\n",
        "model_bert_nli = KeyBERT('bert-base-nli-mean-tokens')\n",
        "keywords_bert_nli = model_bert_nli.extract_keywords(text)\n",
        "\n",
        "# Example 3: roberta-base-nli-mean-tokens\n",
        "model_roberta_nli = KeyBERT('roberta-base-nli-mean-tokens')\n",
        "keywords_roberta_nli = model_roberta_nli.extract_keywords(text)\n",
        "\n",
        "# Example 5: sentence-transformers/bert-base-nli-mean-tokens\n",
        "model_sentence_transformers = KeyBERT('sentence-transformers/bert-base-nli-mean-tokens')\n",
        "keywords_sentence_transformers = model_sentence_transformers.extract_keywords(text)\n",
        "\n",
        "# Print extracted keywords for each model\n",
        "print(\"Keywords using distilbert-base-nli-stsb-mean-tokens:\", [keyword for keyword, _ in keywords_distilbert_stsb])\n",
        "print(\"Keywords using bert-base-nli-mean-tokens:\", [keyword for keyword, _ in keywords_bert_nli])\n",
        "print(\"Keywords using roberta-base-nli-mean-tokens:\", [keyword for keyword, _ in keywords_roberta_nli])\n",
        "print(\"Keywords using sentence-transformers/bert-base-nli-mean-tokens:\", [keyword for keyword, _ in keywords_sentence_transformers])\n"
      ],
      "metadata": {
        "colab": {
          "base_uri": "https://localhost:8080/"
        },
        "id": "UlgWdXRQR5ND",
        "outputId": "e17adf5c-4930-44a1-bfb9-939b23156ee2"
      },
      "execution_count": null,
      "outputs": [
        {
          "output_type": "stream",
          "name": "stdout",
          "text": [
            "Keywords using distilbert-base-nli-stsb-mean-tokens: ['disbursed', 'repayment', 'loans', 'lending', 'payments']\n",
            "Keywords using bert-base-nli-mean-tokens: ['bankhttps', 'banking', 'borrowermonthly', 'loans', 'borrowerhttps']\n",
            "Keywords using roberta-base-nli-mean-tokens: ['202520335', 'hdfcbank', 'lending', '202526655', 'repayment24']\n",
            "Keywords using sentence-transformers/bert-base-nli-mean-tokens: ['bankhttps', 'banking', 'borrowermonthly', 'loans', 'borrowerhttps']\n"
          ]
        }
      ]
    },
    {
      "cell_type": "code",
      "source": [],
      "metadata": {
        "id": "445e6VaaR5W8"
      },
      "execution_count": null,
      "outputs": []
    },
    {
      "cell_type": "code",
      "source": [],
      "metadata": {
        "id": "QDLxwi13Mv7M"
      },
      "execution_count": null,
      "outputs": []
    },
    {
      "cell_type": "code",
      "source": [],
      "metadata": {
        "id": "uGG4_4t2Mv-S"
      },
      "execution_count": null,
      "outputs": []
    },
    {
      "cell_type": "code",
      "source": [
        "#!pip install rake_nltk nltk"
      ],
      "metadata": {
        "colab": {
          "base_uri": "https://localhost:8080/"
        },
        "id": "VOzz3oGNO32f",
        "outputId": "7bf977b8-7619-4589-9097-8d8c7a63d4a7"
      },
      "execution_count": null,
      "outputs": [
        {
          "output_type": "stream",
          "name": "stdout",
          "text": [
            "Requirement already satisfied: nltk in /usr/local/lib/python3.10/dist-packages (3.8.1)\n",
            "Requirement already satisfied: click in /usr/local/lib/python3.10/dist-packages (from nltk) (8.1.7)\n",
            "Requirement already satisfied: joblib in /usr/local/lib/python3.10/dist-packages (from nltk) (1.4.2)\n",
            "Requirement already satisfied: regex>=2021.8.3 in /usr/local/lib/python3.10/dist-packages (from nltk) (2024.5.15)\n",
            "Requirement already satisfied: tqdm in /usr/local/lib/python3.10/dist-packages (from nltk) (4.66.4)\n"
          ]
        }
      ]
    },
    {
      "cell_type": "code",
      "source": [
        "from rake_nltk import Rake\n",
        "from keybert import KeyBERT\n",
        "import PyPDF2\n",
        "import re\n",
        "import nltk\n",
        "nltk.download('stopwords')\n",
        "nltk.download('punkt')\n",
        "\n",
        "# Define input text\n",
        "text = text\n",
        "\n",
        "# Preprocess text and remove noise\n",
        "# Tokenize text and remove stop words\n",
        "\n",
        "# Generate candidate keywords using RAKE\n",
        "r = Rake()\n",
        "r.extract_keywords_from_text(text)\n",
        "keywords_rake = r.get_ranked_phrases()\n",
        "\n",
        "# Initialize KeyBERT model\n",
        "#model = KeyBERT('distilbert-base-nli-mean-tokens')\n",
        "model = KeyBERT()\n",
        "\n",
        "# Extract keywords using KeyBERT\n",
        "keywords_keybert = model.extract_keywords(text, keyphrase_ngram_range=(1, 1), stop_words='english', use_maxsum=True, nr_candidates=20, top_n=10)\n",
        "\n",
        "# Select top-ranked keywords as final extracted keywords\n",
        "final_keywords = [keyword for keyword, _ in keywords_keybert]\n",
        "\n",
        "# Print final extracted keywords\n",
        "print(\"Extracted Keywords:\")\n",
        "for keyword in final_keywords:\n",
        "    print(keyword)\n"
      ],
      "metadata": {
        "colab": {
          "base_uri": "https://localhost:8080/"
        },
        "id": "QYgUl8BxO4ci",
        "outputId": "32017410-caed-4b5e-e30d-ce125eae51d7"
      },
      "execution_count": null,
      "outputs": [
        {
          "output_type": "stream",
          "name": "stderr",
          "text": [
            "[nltk_data] Downloading package stopwords to /root/nltk_data...\n",
            "[nltk_data]   Package stopwords is already up-to-date!\n",
            "[nltk_data] Downloading package punkt to /root/nltk_data...\n",
            "[nltk_data]   Package punkt is already up-to-date!\n"
          ]
        },
        {
          "output_type": "stream",
          "name": "stdout",
          "text": [
            "Extracted Keywords:\n",
            "approved\n",
            "rupees\n",
            "inst\n",
            "tanda\n",
            "3417\n",
            "borrowermonthly\n",
            "hdfc\n",
            "loans\n",
            "ixrepayment\n",
            "nagar\n"
          ]
        }
      ]
    },
    {
      "cell_type": "code",
      "source": [],
      "metadata": {
        "id": "4y2HhfCghilP"
      },
      "execution_count": null,
      "outputs": []
    },
    {
      "cell_type": "code",
      "source": [
        "\n",
        "model = KeyBERT('roberta-base-nli-mean-tokens')\n",
        "\n",
        "#keywords_keybert = model.extract_keywords(text, keyphrase_ngram_range=(1, 1), stop_words='english', use_maxsum=True, nr_candidates=20, top_n=10)\n",
        "keywords_keybert = model.extract_keywords(text,stop_words='english')\n",
        "# Select top-ranked keywords as final extracted keywords\n",
        "final_keywords = [keyword for keyword, _ in keywords_keybert]\n",
        "\n",
        "# Print final extracted keywords\n",
        "print(\"Extracted Keywords:\")\n",
        "for keyword in final_keywords:\n",
        "    print(keyword)"
      ],
      "metadata": {
        "colab": {
          "base_uri": "https://localhost:8080/"
        },
        "id": "wXO2N0-ihuPp",
        "outputId": "422a73d0-4de1-4842-93c5-fe63c5ab5179"
      },
      "execution_count": null,
      "outputs": [
        {
          "output_type": "stream",
          "name": "stdout",
          "text": [
            "Extracted Keywords:\n",
            "202520335\n",
            "hdfcbank\n",
            "lending\n",
            "202526655\n",
            "repayment24\n"
          ]
        }
      ]
    },
    {
      "cell_type": "code",
      "source": [
        "model = KeyBERT('sentence-transformers/bert-base-nli-mean-tokens')\n",
        "\n",
        "#keywords_keybert = model.extract_keywords(text, keyphrase_ngram_range=(1, 1), stop_words='english', use_maxsum=True, nr_candidates=20, top_n=10)\n",
        "keywords_keybert = model.extract_keywords(text,stop_words='english')\n",
        "# Select top-ranked keywords as final extracted keywords\n",
        "final_keywords = [keyword for keyword, _ in keywords_keybert]\n",
        "\n",
        "# Print final extracted keywords\n",
        "print(\"Extracted Keywords:\")\n",
        "for keyword in final_keywords:\n",
        "    print(keyword)"
      ],
      "metadata": {
        "colab": {
          "base_uri": "https://localhost:8080/"
        },
        "id": "wfN8yjj6laBk",
        "outputId": "8e0f5e7d-906b-46a7-b265-8a4e5937685c"
      },
      "execution_count": null,
      "outputs": [
        {
          "output_type": "stream",
          "name": "stdout",
          "text": [
            "Extracted Keywords:\n",
            "bankhttps\n",
            "banking\n",
            "borrowermonthly\n",
            "loans\n",
            "borrowerhttps\n"
          ]
        }
      ]
    },
    {
      "cell_type": "code",
      "source": [
        "model = KeyBERT('bert-base-nli-mean-tokens')\n",
        "\n",
        "#keywords_keybert = model.extract_keywords(text, keyphrase_ngram_range=(1, 1), stop_words='english', use_maxsum=True, nr_candidates=20, top_n=10)\n",
        "keywords_keybert = model.extract_keywords(text,stop_words='english')\n",
        "# Select top-ranked keywords as final extracted keywords\n",
        "final_keywords = [keyword for keyword, _ in keywords_keybert]\n",
        "\n",
        "# Print final extracted keywords\n",
        "print(\"Extracted Keywords:\")\n",
        "for keyword in final_keywords:\n",
        "    print(keyword)"
      ],
      "metadata": {
        "colab": {
          "base_uri": "https://localhost:8080/"
        },
        "id": "C909VJKSlaHa",
        "outputId": "f7b28f65-8679-4634-a12e-35043b2d288c"
      },
      "execution_count": null,
      "outputs": [
        {
          "output_type": "stream",
          "name": "stdout",
          "text": [
            "Extracted Keywords:\n",
            "bankhttps\n",
            "banking\n",
            "borrowermonthly\n",
            "loans\n",
            "borrowerhttps\n"
          ]
        }
      ]
    },
    {
      "cell_type": "code",
      "source": [],
      "metadata": {
        "id": "qtTG430Ylu7T"
      },
      "execution_count": null,
      "outputs": []
    },
    {
      "cell_type": "code",
      "source": [],
      "metadata": {
        "id": "lm5n31d2lu-y"
      },
      "execution_count": null,
      "outputs": []
    },
    {
      "cell_type": "code",
      "source": [
        "keywords_rake"
      ],
      "metadata": {
        "colab": {
          "base_uri": "https://localhost:8080/"
        },
        "id": "tqY94jMDiSJX",
        "outputId": "61266393-d946-464d-e34b-9a2756a87d0b"
      },
      "execution_count": null,
      "outputs": [
        {
          "output_type": "execute_result",
          "data": {
            "text/plain": [
              "['0000000000103733415 unsecured loan type insta loan amount rs',\n",
              " 'nodal grievance redressal officer designated specifically',\n",
              " 'please contact phonebanking within 7 days',\n",
              " 'net disbursed amount using irr approach',\n",
              " 'immediate billing cycle post loan booking',\n",
              " '7ae1be57c87f /? path =/ personal',\n",
              " '7ae1be57c87f /? path =/ common',\n",
              " 'bank holidays xvii privacy policies',\n",
              " 'payment shall attract late payment charges',\n",
              " 'chilkur nalgonda 508206 dear customer',\n",
              " 'monthly hdfc bank credit card statement',\n",
              " 'hdfc bank credit card get closed',\n",
              " 'last statement date till date',\n",
              " 'overall credit card billing statement',\n",
              " 'emi billing dateoutstandi ng principal',\n",
              " 'emi billing dateoutstandi ng principal',\n",
              " 'provided )- vnet disbursed amount',\n",
              " '18 %)* processing fee rs',\n",
              " 'immediate billing cycle date',\n",
              " 'tenure 24 months emi rs',\n",
              " 'hdfc bank credit card number',\n",
              " '00 fixed interest rate 1',\n",
              " '00 (* gst 18 %),',\n",
              " 'balance principal outstanding plus gst',\n",
              " 'lal bahadur shastri marg',\n",
              " '2024 mr ./ ms',\n",
              " '190 dudiya tanda chlkur',\n",
              " 'card member agreement apply',\n",
              " 'otherwise relating hereto shall',\n",
              " 'hold hdfc bank responsible',\n",
              " 'digital lending related complaints',\n",
              " 'loan booking date till',\n",
              " 'hdfc bankhttps :// www',\n",
              " 'hdfc bank credit card',\n",
              " '00 b credit protect',\n",
              " '39 viiannual percentage rate',\n",
              " '13 ist 2024 click',\n",
              " 'hdfc bank cards division',\n",
              " 'total credit card outstanding',\n",
              " 'fri mar 15 16',\n",
              " 'loan account services shall',\n",
              " 'grievance redressal officer',\n",
              " 'effective annualized interest rate',\n",
              " 'credit card statement',\n",
              " 'loan number 0000000000103733415',\n",
              " 'interest percentage per annum21',\n",
              " 'grievance redressal cell',\n",
              " '12 iiitotal interest charge',\n",
              " 'key fact statement',\n",
              " 'hdfc bank reserves',\n",
              " 'hdfc bank reserves',\n",
              " 'hdfc bank ltd',\n",
              " 'hdfc bank limited',\n",
              " 'loan pre closure need',\n",
              " 'period 3 days',\n",
              " 'credit card variant',\n",
              " 'account balance post',\n",
              " 'contact phone banking',\n",
              " '24 ixrepayment frequency',\n",
              " 'credit card outstanding',\n",
              " 'https :// www',\n",
              " 'borrowerhttps :// www',\n",
              " 'payment due date',\n",
              " 'respective card variant',\n",
              " 'monthly payment dues',\n",
              " 'withdraw cash using',\n",
              " '00 vitotal amount',\n",
              " 'monthly payment due',\n",
              " 'without previous notice',\n",
              " 'reducing balance method',\n",
              " 'participant may suffer',\n",
              " 'pammi venu madhav',\n",
              " 'lattice bridge road',\n",
              " 'inst alm ent',\n",
              " 'inst alm ent',\n",
              " 'disclosures xiv cooling',\n",
              " 'adobe acrobat reader',\n",
              " 'total outstanding due',\n",
              " 'minimum amount due',\n",
              " 'cash withdrawal would',\n",
              " 'loan amount would',\n",
              " 'contingent charges xiirate',\n",
              " '00 aprocessing fees',\n",
              " 'standard penal charges',\n",
              " 'payment return fees',\n",
              " 'notwithstanding anything stated',\n",
              " 'enclosed amortization schedule',\n",
              " '63 viii tenor',\n",
              " '19 digitally signed',\n",
              " 'annualized penal charges',\n",
              " 'additional penal charges',\n",
              " 'loan details provided',\n",
              " 'hdfc bank',\n",
              " 'closure charges 3',\n",
              " 'loan amount 70000',\n",
              " 'mitc link mentioned',\n",
              " 'due date',\n",
              " 'insta loan',\n",
              " 'insta loan',\n",
              " 'principal outstanding',\n",
              " 'principal outstanding',\n",
              " 'card account',\n",
              " 'booking cannot',\n",
              " 'loan shall',\n",
              " 'card regular',\n",
              " 'phone number',\n",
              " 'payment amount',\n",
              " 'pre closed',\n",
              " 'balance outstanding',\n",
              " 'loan amount',\n",
              " 'loan amount',\n",
              " 'loan amount',\n",
              " 'loan amount',\n",
              " 'processing fee',\n",
              " 'processing fee',\n",
              " 'processing fee',\n",
              " 'monthly basis',\n",
              " 'bank ing',\n",
              " 'interest amount',\n",
              " 'interest amount',\n",
              " 'please open',\n",
              " 'please find',\n",
              " 'get debited',\n",
              " 'credit limit',\n",
              " 'credit cards',\n",
              " 'credit cards',\n",
              " 'credit cards',\n",
              " 'loan outstanding',\n",
              " 'penal charges',\n",
              " 'respective account',\n",
              " 'negative balance',\n",
              " 'digitally signed',\n",
              " 'digital signature',\n",
              " 'amortization schedule',\n",
              " '00 iirate',\n",
              " '00 3538',\n",
              " '00 3077',\n",
              " '13 3601',\n",
              " '00 3601',\n",
              " 'get levied',\n",
              " 'additional interest',\n",
              " '00 pre',\n",
              " 'tenure confirmed',\n",
              " 'since emi',\n",
              " 'include emi',\n",
              " 'first emi',\n",
              " 'currently 3',\n",
              " 'cash limit',\n",
              " 'savings account',\n",
              " 'loan whichever',\n",
              " 'entire tenor',\n",
              " '63 123',\n",
              " 'closure charges',\n",
              " 'loan details',\n",
              " '39 ivother',\n",
              " '39 3300',\n",
              " '39 2630',\n",
              " '39 2496',\n",
              " 'front charges',\n",
              " 'finance charges',\n",
              " 'closure charge',\n",
              " 'documentation charge',\n",
              " 'partial closure',\n",
              " 'closure penalty',\n",
              " 'whether similar',\n",
              " 'vikroli west',\n",
              " 'vikroli west',\n",
              " 'stock markets',\n",
              " 'speculative purpose',\n",
              " 'signature panel',\n",
              " 'september 5th',\n",
              " 'saturday 9',\n",
              " 'replace wholly',\n",
              " 'repayment24 xiamount',\n",
              " 'recovery agent',\n",
              " 'processed cannot',\n",
              " 'privacystatement starting',\n",
              " 'principa l',\n",
              " 'principa l',\n",
              " 'person al',\n",
              " 'parag rao',\n",
              " 'mutual funds',\n",
              " 'min rs450',\n",
              " 'max rs4999',\n",
              " 'lsp acting',\n",
              " 'loans booked',\n",
              " 'linked loans',\n",
              " 'kannan ramaseshan',\n",
              " 'iv ))',\n",
              " 'exclusive jurisdiction',\n",
              " 'excluding gst',\n",
              " 'empire plaza',\n",
              " 'disbursed',\n",
              " 'delayed payments',\n",
              " 'competent courts',\n",
              " 'chandan nagar',\n",
              " 'chandan nagar',\n",
              " 'borrowermonthly xnumber',\n",
              " 'authorised signatory',\n",
              " 'apr calculation',\n",
              " '99 469',\n",
              " '98 877',\n",
              " '96 2585',\n",
              " '92 829',\n",
              " '91 62',\n",
              " '91 3477',\n",
              " '91 2820',\n",
              " '89 3187',\n",
              " '88 2369',\n",
              " '87 924',\n",
              " '87 680',\n",
              " '82 523',\n",
              " '82 3024',\n",
              " '82 1190',\n",
              " '81 2453',\n",
              " '71 780',\n",
              " '69 2920',\n",
              " '68 3243',\n",
              " '62 2771',\n",
              " '59 576',\n",
              " '57 970',\n",
              " '56 2870',\n",
              " '56 1316',\n",
              " '54 3417',\n",
              " '54 2723',\n",
              " '52 2676',\n",
              " '4th saturdays',\n",
              " '48 183',\n",
              " '44 3272',\n",
              " '42 1104',\n",
              " '41 2972',\n",
              " '400083 call',\n",
              " '37 242',\n",
              " '36 1060',\n",
              " '35 730',\n",
              " '29 300',\n",
              " '28 628',\n",
              " '25 1147',\n",
              " '21 357',\n",
              " '20c ards',\n",
              " '2018 onwards',\n",
              " '1st floor',\n",
              " '18002664060 monday',\n",
              " '12 916',\n",
              " '12 903',\n",
              " '12 816',\n",
              " '12 716',\n",
              " '12 616',\n",
              " '12 516',\n",
              " '12 416',\n",
              " '12 414',\n",
              " '12 2416',\n",
              " '12 2316',\n",
              " '12 2216',\n",
              " '12 216',\n",
              " '12 2116',\n",
              " '12 2016',\n",
              " '12 1916',\n",
              " '12 1816',\n",
              " '12 1716',\n",
              " '12 1616',\n",
              " '12 1516',\n",
              " '12 1416',\n",
              " '12 1216',\n",
              " '12 1116',\n",
              " '12 1016',\n",
              " '91 3601',\n",
              " '87 3601',\n",
              " '84 3601',\n",
              " '83 3601',\n",
              " '77 3601',\n",
              " '75 3601',\n",
              " '70 3601',\n",
              " '55 3601',\n",
              " '53 3601',\n",
              " '49 3601',\n",
              " '41 3601',\n",
              " '30 3601',\n",
              " '30 3601',\n",
              " '28 3601',\n",
              " '25 3601',\n",
              " '25 3601',\n",
              " '20 3601',\n",
              " '14 3601',\n",
              " 'signature details',\n",
              " 'parameter details',\n",
              " 'insurance charges',\n",
              " 'details stated',\n",
              " 'charges applicable',\n",
              " 'applicable charges',\n",
              " 'pre closure',\n",
              " '12 details',\n",
              " 'partial pre',\n",
              " 'view e',\n",
              " 'pdf xviname',\n",
              " 'also view',\n",
              " 'applicable charge',\n",
              " 'sole discretion',\n",
              " 'p ay',\n",
              " 'chennai 600041',\n",
              " 'approach',\n",
              " 'bank',\n",
              " 'bank',\n",
              " 'applicable debits',\n",
              " '76 3601',\n",
              " '64 3601',\n",
              " 'website terms',\n",
              " 'shall',\n",
              " 'important terms',\n",
              " '07 1016',\n",
              " '06 2410',\n",
              " '03 2540',\n",
              " '02 3358',\n",
              " '01 3131',\n",
              " 'credit',\n",
              " 'credit',\n",
              " '05 3601',\n",
              " 'another offer',\n",
              " 'conditions contained',\n",
              " 'pdf document',\n",
              " 'amount',\n",
              " 'provided',\n",
              " 'percentage',\n",
              " 'months',\n",
              " 'customer',\n",
              " '1',\n",
              " 'payment',\n",
              " 'payment',\n",
              " 'payment',\n",
              " 'payment',\n",
              " 'tenure',\n",
              " 'outstanding',\n",
              " 'emi',\n",
              " 'emi',\n",
              " 'emi',\n",
              " 'annualized',\n",
              " '18',\n",
              " '18',\n",
              " '18',\n",
              " 'loan',\n",
              " 'loan',\n",
              " 'loan',\n",
              " 'loan',\n",
              " 'loan',\n",
              " 'loan',\n",
              " 'loan',\n",
              " 'loan',\n",
              " 'loan',\n",
              " 'loan',\n",
              " 'mar',\n",
              " 'effective',\n",
              " 'click',\n",
              " '15',\n",
              " 'charges',\n",
              " 'charges',\n",
              " 'charges',\n",
              " 'interest',\n",
              " 'interest',\n",
              " 'interest',\n",
              " 'interest',\n",
              " 'interest',\n",
              " 'fees',\n",
              " 'charge',\n",
              " 'closure',\n",
              " 'closure',\n",
              " 'withdraw',\n",
              " 'stated',\n",
              " 'mentioned',\n",
              " 'gst',\n",
              " 'gst',\n",
              " 'gst',\n",
              " 'gst',\n",
              " 'gst',\n",
              " 'gst',\n",
              " 'cards',\n",
              " 'cards',\n",
              " '12',\n",
              " '12',\n",
              " '12',\n",
              " '12',\n",
              " '3601',\n",
              " '3601',\n",
              " 'details',\n",
              " 'details',\n",
              " 'per',\n",
              " 'per',\n",
              " 'per',\n",
              " 'pre',\n",
              " 'pre',\n",
              " 'pre',\n",
              " 'pre',\n",
              " 'pre',\n",
              " 'view',\n",
              " 'pdf',\n",
              " 'mitc',\n",
              " 'mitc',\n",
              " 'p',\n",
              " 'levied',\n",
              " 'insurance',\n",
              " 'document',\n",
              " 'discretion',\n",
              " 'chennai',\n",
              " '76',\n",
              " '70000',\n",
              " '70000',\n",
              " '70000',\n",
              " '64',\n",
              " 'applicable',\n",
              " 'applicable',\n",
              " 'applicable',\n",
              " 'applicable',\n",
              " 'applicable',\n",
              " 'terms',\n",
              " 'terms',\n",
              " 'terms',\n",
              " '07',\n",
              " '07',\n",
              " '06',\n",
              " '06',\n",
              " '05',\n",
              " '05',\n",
              " '03',\n",
              " '03',\n",
              " '02',\n",
              " '02',\n",
              " '01',\n",
              " '01',\n",
              " 'offer',\n",
              " 'offer',\n",
              " 'offer',\n",
              " 'conditions',\n",
              " 'conditions',\n",
              " 'conditions',\n",
              " 'conditions',\n",
              " 'zeroised',\n",
              " 'xiiirate',\n",
              " 'vendor',\n",
              " 'vary',\n",
              " 'useful',\n",
              " 'unable',\n",
              " 'tribunals',\n",
              " 'together',\n",
              " 'time',\n",
              " 'time',\n",
              " 'time',\n",
              " 'time',\n",
              " 'thiruvanmiyur',\n",
              " 'terminated',\n",
              " 'ted',\n",
              " 'sustain',\n",
              " 'suspended',\n",
              " 'sundays',\n",
              " 'sum',\n",
              " 'subject',\n",
              " 'subject',\n",
              " 'subject',\n",
              " 'sr',\n",
              " 'scheme',\n",
              " 'rupees',\n",
              " 'rupees',\n",
              " 'rupees',\n",
              " 'rupees',\n",
              " 'rupees',\n",
              " 'rupees',\n",
              " 'rupees',\n",
              " 'rupees',\n",
              " 'rupees',\n",
              " 'rupees',\n",
              " 'rupees',\n",
              " 'rupees',\n",
              " 'rupees',\n",
              " 'rupees',\n",
              " 'rupees',\n",
              " 'rupees',\n",
              " 'right',\n",
              " 'right',\n",
              " 'revise',\n",
              " 'reversed',\n",
              " 'reversed',\n",
              " 'result',\n",
              " 'restored',\n",
              " 'required',\n",
              " 'require',\n",
              " 'request',\n",
              " 'request',\n",
              " 'repositories',\n",
              " 'repositories',\n",
              " 'repayment',\n",
              " 'reflect',\n",
              " 'refer',\n",
              " 'receiving',\n",
              " 'pleased',\n",
              " 'permitted',\n",
              " 'pdfs',\n",
              " 'payable',\n",
              " 'part',\n",
              " 'part',\n",
              " 'part',\n",
              " 'part',\n",
              " 'paid',\n",
              " 'paid',\n",
              " 'non',\n",
              " 'netbanking',\n",
              " 'netbanking',\n",
              " 'nature',\n",
              " 'mumbai',\n",
              " 'monthlyxvdetails',\n",
              " 'modify',\n",
              " 'manage',\n",
              " 'mad',\n",
              " 'mad',\n",
              " 'mad',\n",
              " 'losses',\n",
              " 'look',\n",
              " 'logging',\n",
              " 'list',\n",
              " 'links',\n",
              " 'liable',\n",
              " 'letter',\n",
              " 'keep',\n",
              " 'issuesmr',\n",
              " 'invested',\n",
              " 'instalments',\n",
              " 'instalment',\n",
              " 'instalmen',\n",
              " 'instalmen',\n",
              " 'installments',\n",
              " 'incur',\n",
              " 'included',\n",
              " 'iii',\n",
              " 'iii',\n",
              " 'ii',\n",
              " 'hdfcbank',\n",
              " 'hdfcbank',\n",
              " 'hdfcbank',\n",
              " 'grant',\n",
              " 'given',\n",
              " 'full',\n",
              " 'fintech',\n",
              " 'feedback',\n",
              " 'facility',\n",
              " 'facility',\n",
              " 'expenses',\n",
              " 'eothers',\n",
              " 'enquire',\n",
              " 'earlier',\n",
              " 'disputes',\n",
              " 'designation',\n",
              " 'demands',\n",
              " 'demand',\n",
              " 'default',\n",
              " 'decide',\n",
              " 'deal',\n",
              " 'damages',\n",
              " 'credited',\n",
              " 'could',\n",
              " 'costs',\n",
              " 'continuation',\n",
              " 'content',\n",
              " 'content',\n",
              " 'connection',\n",
              " 'computed',\n",
              " 'component',\n",
              " 'com',\n",
              " 'com',\n",
              " 'com',\n",
              " 'collection',\n",
              " 'close',\n",
              " 'claims',\n",
              " 'circumstances',\n",
              " 'circumstances',\n",
              " 'charged',\n",
              " 'changed',\n",
              " 'change',\n",
              " 'change',\n",
              " 'case',\n",
              " 'case',\n",
              " 'case',\n",
              " 'case',\n",
              " 'cancelled',\n",
              " 'calculated',\n",
              " 'c',\n",
              " 'break',\n",
              " 'borrower',\n",
              " 'blocked',\n",
              " 'billed',\n",
              " 'billed',\n",
              " 'billed',\n",
              " 'bbp',\n",
              " 'bbp',\n",
              " 'available',\n",
              " 'authorized',\n",
              " 'assistance',\n",
              " 'arising',\n",
              " 'approved',\n",
              " 'appearing',\n",
              " 'alter',\n",
              " 'address',\n",
              " 'added',\n",
              " 'add',\n",
              " 'active',\n",
              " 'actions',\n",
              " '999',\n",
              " '999',\n",
              " '999',\n",
              " '9793',\n",
              " '9793',\n",
              " '87097',\n",
              " '8',\n",
              " '723fb80a',\n",
              " '723fb80a',\n",
              " '5',\n",
              " '457704xxxxxx6561',\n",
              " '42a3',\n",
              " '42a3',\n",
              " '316',\n",
              " '30pm',\n",
              " '30am',\n",
              " '2nd',\n",
              " '2dde',\n",
              " '2dde',\n",
              " '22',\n",
              " '20your',\n",
              " '20scheme',\n",
              " '20pdfs',\n",
              " '20page',\n",
              " '20overlays',\n",
              " '20ombudsman',\n",
              " '20landing',\n",
              " '20credit',\n",
              " '20card',\n",
              " '20card',\n",
              " '20263538',\n",
              " '20260',\n",
              " '20257016',\n",
              " '202541520',\n",
              " '202538650',\n",
              " '202535729',\n",
              " '202532757',\n",
              " '202529732',\n",
              " '202526655',\n",
              " '202523523',\n",
              " '202520335',\n",
              " '202517092',\n",
              " '202513792',\n",
              " '202510434',\n",
              " '202467630',\n",
              " '202465220',\n",
              " '202462766',\n",
              " '202460270',\n",
              " '202457730',\n",
              " '202455144',\n",
              " '202452514',\n",
              " '202449837',\n",
              " '202447113',\n",
              " '202444341',\n",
              " '201',\n",
              " '2',\n",
              " '2',\n",
              " '16098',\n",
              " '116',\n",
              " '11',\n",
              " '11',\n",
              " '11',\n",
              " '10',\n",
              " '10',\n",
              " '09',\n",
              " '09',\n",
              " '08',\n",
              " '08',\n",
              " '04',\n",
              " '04',\n",
              " ');',\n",
              " '),']"
            ]
          },
          "metadata": {},
          "execution_count": 39
        }
      ]
    },
    {
      "cell_type": "code",
      "source": [],
      "metadata": {
        "id": "nNTfuV-tlUW_"
      },
      "execution_count": null,
      "outputs": []
    },
    {
      "cell_type": "code",
      "source": [],
      "metadata": {
        "id": "Yq_aAP7_lUZ8"
      },
      "execution_count": null,
      "outputs": []
    },
    {
      "cell_type": "code",
      "source": [],
      "metadata": {
        "id": "faffIm9VlUcn"
      },
      "execution_count": null,
      "outputs": []
    },
    {
      "cell_type": "code",
      "source": [],
      "metadata": {
        "id": "iiIuZLcOlUff"
      },
      "execution_count": null,
      "outputs": []
    },
    {
      "cell_type": "code",
      "source": [],
      "metadata": {
        "id": "mEGeIlvJlUiM"
      },
      "execution_count": null,
      "outputs": []
    },
    {
      "cell_type": "code",
      "source": [
        "from rake_nltk import Rake\n",
        "import PyPDF2\n",
        "from keybert import KeyBERT\n",
        "import re\n",
        "import nltk\n",
        "nltk.download('stopwords')\n",
        "nltk.download('punkt')\n",
        "\n",
        "\n",
        "def extract_text(pdf_file_path):\n",
        "      # Initialize PDF reader\n",
        "      pdf_reader = PyPDF2.PdfReader(pdf_file_path)\n",
        "\n",
        "      # Extract text from PDF\n",
        "      text = \"\"\n",
        "      for page in pdf_reader.pages:\n",
        "          text += page.extract_text()\n",
        "\n",
        "      return text\n",
        "\n",
        "def generate_candidate_keywords_using_rake(text):\n",
        "    # Generate candidate keywords using RAKE\n",
        "    r = Rake()\n",
        "    r.extract_keywords_from_text(text)\n",
        "    keywords_rake = r.get_ranked_phrases()\n",
        "    return keywords_rake\n",
        "\n",
        "def generate_contextual_keywords_using_llm(text, llm_model = None):\n",
        "    model = KeyBERT()\n",
        "    if llm_model != None:\n",
        "       model = KeyBERT(llm_model)\n",
        "\n",
        "    #keywords_keybert = model.extract_keywords(text, keyphrase_ngram_range=(1, 1), stop_words='english', use_maxsum=True, nr_candidates=20, top_n=10)\n",
        "    keywords_keybert = model.extract_keywords(text,stop_words='english')\n",
        "    return keywords_keybert\n",
        "\n",
        "def get_top_ranked_keywords(keywords_rake, keywords_keybert):\n",
        "    final_keywords = [keyword for keyword in keywords_rake if keyword in keywords_keybert]\n",
        "\n",
        "\n",
        "\n",
        "\n",
        "\n",
        "\n",
        "\n",
        "\n",
        "\n",
        "\n",
        "\n"
      ],
      "metadata": {
        "id": "gdoVoAhTiSMD"
      },
      "execution_count": null,
      "outputs": []
    },
    {
      "cell_type": "code",
      "source": [],
      "metadata": {
        "id": "eQoUIiRkhhPC"
      },
      "execution_count": null,
      "outputs": []
    },
    {
      "cell_type": "code",
      "source": [],
      "metadata": {
        "id": "rr77nWpiO4fF"
      },
      "execution_count": null,
      "outputs": []
    },
    {
      "cell_type": "code",
      "source": [],
      "metadata": {
        "id": "v5Ryj_9XO35X"
      },
      "execution_count": null,
      "outputs": []
    },
    {
      "cell_type": "code",
      "source": [],
      "metadata": {
        "id": "RTnQs1dXO13U"
      },
      "execution_count": null,
      "outputs": []
    },
    {
      "cell_type": "code",
      "source": [],
      "metadata": {
        "id": "U9XM6A2AO1-a"
      },
      "execution_count": null,
      "outputs": []
    }
  ]
}
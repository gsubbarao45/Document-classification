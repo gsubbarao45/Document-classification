{
  "nbformat": 4,
  "nbformat_minor": 0,
  "metadata": {
    "colab": {
      "provenance": []
    },
    "kernelspec": {
      "name": "python3",
      "display_name": "Python 3"
    },
    "language_info": {
      "name": "python"
    }
  },
  "cells": [
    {
      "cell_type": "code",
      "execution_count": null,
      "metadata": {
        "id": "9TEXxGBdDwul"
      },
      "outputs": [],
      "source": [
        "#Using Spacy"
      ]
    },
    {
      "cell_type": "code",
      "source": [
        "# !pip install spacy\n",
        "# !python -m spacy download en_core_web_sm\n",
        "\n",
        "import spacy\n",
        "\n",
        "# Load the spaCy model\n",
        "nlp = spacy.load(\"en_core_web_sm\")\n"
      ],
      "metadata": {
        "id": "eAyHeUaVEef5"
      },
      "execution_count": 1,
      "outputs": []
    },
    {
      "cell_type": "code",
      "source": [
        "# Acronym mapping\n",
        "acronym_map = {\n",
        "    \"CD\": \"Closing Date\",\n",
        "    \"IP\": \"Investment Period\",\n",
        "    \"DI\": \"Direct Investment\",\n",
        "    \"AFF\": \"Affiliate\",\n",
        "    \"GP\": \"General Partner\",\n",
        "    \"LI\": \"Lead Investor\",\n",
        "    \"SIF\": \"Secondary Investee Fund\",\n",
        "    \"IF\": \"Investee Fund\",\n",
        "    \"GPCS\": \"GP's Capital Subscriptions\",\n",
        "    \"RF\": \"Related Funds\",\n",
        "    \"RFM\": \"Related Firms\",\n",
        "    \"PIF\": \"Primary Investee Fund\",\n",
        "    \"DDI\": \"Discretionary Direct Investment\"\n",
        "}\n",
        "\n",
        "\n",
        "def replace_acronyms(text, acronym_map):\n",
        "    doc = nlp(text)  # Process the input text using spaCy\n",
        "\n",
        "    replaced_text = []\n",
        "    for token in doc:\n",
        "        # If the token is an acronym, replace it with its full form from acronym_map\n",
        "        if token.text in acronym_map:\n",
        "            # Replace with full form, checking context if needed (you can expand this)\n",
        "            replaced_text.append(acronym_map[token.text])\n",
        "        else:\n",
        "            replaced_text.append(token.text)\n",
        "\n",
        "    return \" \".join(replaced_text)\n",
        "\n",
        "# Example usage\n",
        "text = \"The CD for the project is approaching, and the GP is discussing the IP extension with the LI.\"\n",
        "replaced_text = replace_acronyms(text, acronym_map)\n",
        "print(replaced_text)"
      ],
      "metadata": {
        "colab": {
          "base_uri": "https://localhost:8080/"
        },
        "id": "dUsh_iEEE3mZ",
        "outputId": "1cbe0588-b812-4f71-b1f0-08f95e747011"
      },
      "execution_count": 3,
      "outputs": [
        {
          "output_type": "stream",
          "name": "stdout",
          "text": [
            "The Closing Date for the project is approaching , and the General Partner is discussing the Investment Period extension with the LI.These all write in Closing Date storage\n"
          ]
        }
      ]
    },
    {
      "cell_type": "code",
      "source": [],
      "metadata": {
        "id": "Fyn61bRLF1ws"
      },
      "execution_count": null,
      "outputs": []
    },
    {
      "cell_type": "code",
      "source": [
        "#Using regular expression"
      ],
      "metadata": {
        "id": "4fWYDhyjGNjS"
      },
      "execution_count": null,
      "outputs": []
    },
    {
      "cell_type": "code",
      "source": [
        "import re\n",
        "\n",
        "# Define the acronym mapping\n",
        "acronym_map = {\n",
        "    \"CD\": \"Closing Date\",\n",
        "    \"IP\": \"Investment Period\",\n",
        "    \"DI\": \"Direct Investment\",\n",
        "    \"AFF\": \"Affiliate\",\n",
        "    \"GP\": \"General Partner\",\n",
        "    \"LI\": \"Lead Investor\",\n",
        "    \"SIF\": \"Secondary Investee Fund\",\n",
        "    \"IF\": \"Investee Fund\",\n",
        "    \"GPCS\": \"GP's Capital Subscriptions\",\n",
        "    \"RF\": \"Related Funds\",\n",
        "    \"RFM\": \"Related Firms\",\n",
        "    \"PIF\": \"Primary Investee Fund\",\n",
        "    \"DDI\": \"Discretionary Direct Investment\"\n",
        "}\n",
        "\n",
        "# Function to replace acronyms using regular expressions\n",
        "def replace_acronyms(text, acronym_map):\n",
        "    # Replace acronyms in the text\n",
        "    for acronym, full_form in acronym_map.items():\n",
        "        regex_pattern = r'\\b' + re.escape(acronym) + r'\\b'\n",
        "        text = re.sub(regex_pattern, full_form, text)\n",
        "\n",
        "    return text\n",
        "\n",
        "# Example text input\n",
        "input_text = \"The CD is set, and the GP along with LI invested in the IF during the IP. This entire information available in CD memory\"\n",
        "\n",
        "# Replace acronyms in the text\n",
        "output_text = replace_acronyms(input_text, acronym_map)\n",
        "\n",
        "print(output_text)\n"
      ],
      "metadata": {
        "colab": {
          "base_uri": "https://localhost:8080/"
        },
        "id": "6troZPxHGNmO",
        "outputId": "3e01375f-a090-4b3b-eaea-48d498d3164e"
      },
      "execution_count": 10,
      "outputs": [
        {
          "output_type": "stream",
          "name": "stdout",
          "text": [
            "The Closing Date is set, and the General Partner along with Lead Investor invested in the Investee Fund during the Investment Period. This entire information available in Closing Date memory\n"
          ]
        }
      ]
    }
  ]
}
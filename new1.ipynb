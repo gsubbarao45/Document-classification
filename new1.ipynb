{
 "cells": [
  {
   "cell_type": "code",
   "execution_count": 9,
   "metadata": {},
   "outputs": [
    {
     "name": "stdout",
     "output_type": "stream",
     "text": [
      "Page 1\n",
      "  Heading: 1.GEN AI Overview\n",
      "    Subheading: 1.1 Intro to gen ai \n",
      "    Subheading: 1.2 History about Gen AI \n",
      "    Subheading: 1.3 Basic Fundamentals of Gen AI \n",
      "    Subheading: 1.4 Prerequists for gen AI \n",
      "    Subheading: 1.5 NLP for Gen AI\n",
      "  Heading: 2.NLP Overview \n",
      "    Subheading: 2.1 NLP \n",
      "    Subheading: 2.2 Basics of NLP\n",
      "    Subheading: 2.3 Text Preprocessing techniques\n",
      "Page 2\n",
      "  Heading: 3.Word Embedding\n",
      "    Subheading: 3.1 Word 2 Vec\n",
      "    Subheading: 3.2 One Hot Encoding \n",
      "    Subheading: 3.3 Bag Of Words \n",
      "    Subheading: 3.4 TF-IDF \n",
      "    Subheading: 3.5 Avg Bag Of Words \n",
      "Page 3\n",
      "  Heading: 4.MODEL’S\n",
      "    Subheading: 4.1 MODELS \n",
      "    Subheading: 4.2 RNN Model \n",
      "    Subheading: 4.3 LSTM Model \n",
      "    Subheading: 4.4 GRU Model \n",
      "    Subheading: 4.5 Bidirectional LSTM\n",
      "  Heading: 5.Advanced Learning\n",
      "    Subheading: 5.1 ENCODER AND DECODER \n",
      "    Subheading: 5.2 ENCODER AND DECODER with Attention \n",
      "    Subheading: 5.3 INTRO TO TRANSFORMERS \n"
     ]
    }
   ],
   "source": [
    "import fitz  # PyMuPDF\n",
    "\n",
    "# Function to extract headings and subheadings page by page\n",
    "def extract_headings_page_by_page(pdf_path):\n",
    "    page_data = {}  # Dictionary to store data for each page\n",
    "\n",
    "    with fitz.open(pdf_path) as pdf:\n",
    "        for page_number, page in enumerate(pdf, start=1):\n",
    "            organized_text = {}\n",
    "            current_heading = None\n",
    "            \n",
    "            # Extract text with font information\n",
    "            blocks = page.get_text(\"dict\")[\"blocks\"]\n",
    "            \n",
    "            for block in blocks:\n",
    "                for line in block.get(\"lines\", []):\n",
    "                    for span in line.get(\"spans\", []):\n",
    "                        # Check if the text is bold\n",
    "                        if \"bold\" in span[\"font\"].lower():\n",
    "                            text = span[\"text\"].strip().replace(\":\", \"\")  # Remove colon\n",
    "                            \n",
    "                            # Identify main headings (e.g., \"1. GEN AI Overview\")\n",
    "                            if text.startswith(tuple(f\"{i}.\" for i in range(1, 10))) and not text.startswith(tuple(f\"{i}.{j}\" for i in range(1, 10) for j in range(1, 10))):\n",
    "                                current_heading = text\n",
    "                                if current_heading not in organized_text:\n",
    "                                    organized_text[current_heading] = []\n",
    "                            \n",
    "                            # Identify subheadings (e.g., \"1.1 Intro to Gen AI\")\n",
    "                            elif current_heading and text.startswith(tuple(f\"{current_heading.split('.')[0]}.{j}\" for j in range(1, 10))):\n",
    "                                organized_text[current_heading].append(text)\n",
    "            \n",
    "            # Store organized text for the current page\n",
    "            page_data[f\"Page {page_number}\"] = organized_text\n",
    "\n",
    "    return page_data\n",
    "\n",
    "# Provide the path to your PDF file\n",
    "pdf_path = \"rk3.pdf\"  # Replace with your file path\n",
    "page_wise_data = extract_headings_page_by_page(pdf_path)\n",
    "\n",
    "# Print the extracted data page by page\n",
    "for page, data in page_wise_data.items():\n",
    "    print(page)  # Page number\n",
    "    for heading, subheadings in data.items():\n",
    "        print(f\"  Heading: {heading}\")\n",
    "        for subheading in subheadings:\n",
    "            print(f\"    Subheading: {subheading}\")\n"
   ]
  },
  {
   "cell_type": "code",
   "execution_count": null,
   "metadata": {},
   "outputs": [],
   "source": []
  }
 ],
 "metadata": {
  "kernelspec": {
   "display_name": "Python 3",
   "language": "python",
   "name": "python3"
  },
  "language_info": {
   "codemirror_mode": {
    "name": "ipython",
    "version": 3
   },
   "file_extension": ".py",
   "mimetype": "text/x-python",
   "name": "python",
   "nbconvert_exporter": "python",
   "pygments_lexer": "ipython3",
   "version": "3.10.0"
  }
 },
 "nbformat": 4,
 "nbformat_minor": 2
}

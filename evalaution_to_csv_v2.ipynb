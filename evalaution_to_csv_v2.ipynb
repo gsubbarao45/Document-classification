{
 "cells": [
  {
   "cell_type": "code",
   "execution_count": 58,
   "metadata": {},
   "outputs": [],
   "source": [
    "import ast\n",
    "\n",
    "predicted =str([\"management fee\", \"Fund\", \"Primary Investment\", \"Revenue\",\"www\", \"efeg\", \"sfsegeg\",\"erw\"])\n",
    "\n",
    "predicted = ast.literal_eval(predicted)\n",
    "\n",
    "actual = ['finance ','management fee', 'Fund', 'Primary Investment', 'Revenue', \"Banking\",\"default\",'logo']\n",
    "\n",
    "#You need to pass input file object here\n",
    "input_excel_file_name = \"sample.xlsx\""
   ]
  },
  {
   "cell_type": "code",
   "execution_count": null,
   "metadata": {},
   "outputs": [],
   "source": []
  },
  {
   "cell_type": "code",
   "execution_count": null,
   "metadata": {},
   "outputs": [],
   "source": []
  },
  {
   "cell_type": "code",
   "execution_count": 59,
   "metadata": {},
   "outputs": [],
   "source": [
    "import pandas as pd\n",
    "\n",
    "def export_evaluation_metrics_as_csv(input_excel_file_name, output_location, actual, predicted):\n",
    "    def maintain_length(list1, list2, placeholder=None):\n",
    "        max_length = max(len(list1), len(list2))\n",
    "        while len(list1) < max_length:\n",
    "            list1.append(placeholder)\n",
    "        while len(list2) < max_length:\n",
    "            list2.append(placeholder)\n",
    "        return sorted(list1, key=str.lower), sorted(list2, key=str.lower)\n",
    "\n",
    "    actual, predicted = maintain_length(actual, predicted)\n",
    "    \n",
    "    return actual, predicted\n",
    "    keyterms_dic = {\n",
    "            'Actual keyterms': actual,\n",
    "            'Predicted keyterms': predicted\n",
    "           }\n",
    "\n",
    "    # Create DataFrame\n",
    "    df = pd.DataFrame(keyterms_dic)\n",
    "\n",
    "#     # Create an empty column for Aligned keyterms\n",
    "#     df['Aligned keyterms_predicted'] = ''\n",
    "\n",
    "#     # Align the keyterms\n",
    "#     for i, row in df.iterrows():\n",
    "#         if row['Actual keyterms'] in df['Predicted keyterms'].values:\n",
    "#             predicted_index = df['Predicted keyterms'].values.tolist().index(row['Actual keyterms'])\n",
    "#             df.at[i, 'Aligned keyterms_predicted'] = df.at[predicted_index, 'Predicted keyterms']\n",
    "#     df['Aligned keyterms_Actual'] = ''        \n",
    "#     for i, row in df.iterrows():\n",
    "#         if row['Predicted keyterms'] in df['Actual keyterms'].values:\n",
    "#             predicted_index = df['Actual keyterms'].values.tolist().index(row['Predicted keyterms'])\n",
    "#             df.at[i, 'Aligned keyterms_Actual'] = df.at[predicted_index, 'Actual keyterms']\n",
    "\n",
    "    # Drop the original Predicted keyterms column to match the final desired output\n",
    "    #final_df = df[['Actual keyterms', 'Aligned keyterms']]\n",
    "\n",
    "    return df\n"
   ]
  },
  {
   "cell_type": "code",
   "execution_count": 61,
   "metadata": {
    "scrolled": true
   },
   "outputs": [],
   "source": [
    "l1 , l2 =export_evaluation_metrics_as_csv(input_excel_file_name, \"\", actual, predicted)"
   ]
  },
  {
   "cell_type": "code",
   "execution_count": null,
   "metadata": {},
   "outputs": [],
   "source": [
    "new_l2 = []\n",
    "\n",
    "for  item in l1 :\n",
    "    if l1 == \n",
    "    \n",
    "    "
   ]
  },
  {
   "cell_type": "code",
   "execution_count": null,
   "metadata": {},
   "outputs": [],
   "source": []
  },
  {
   "cell_type": "code",
   "execution_count": null,
   "metadata": {},
   "outputs": [],
   "source": []
  },
  {
   "cell_type": "code",
   "execution_count": null,
   "metadata": {},
   "outputs": [],
   "source": []
  },
  {
   "cell_type": "code",
   "execution_count": 22,
   "metadata": {},
   "outputs": [
    {
     "name": "stdout",
     "output_type": "stream",
     "text": [
      "       Actual keyterms  Predicted keyterms\n",
      "0              finance      management fee\n",
      "1              finance                None\n",
      "2       management fee                Fund\n",
      "3                 Fund  Primary Investment\n",
      "4   Primary Investment             Revenue\n",
      "5              Revenue                 www\n",
      "6                 None                 www\n",
      "7              Banking                efeg\n",
      "8              Banking                None\n",
      "9                 None                efeg\n",
      "10             default             sfsegeg\n",
      "11             default                None\n",
      "12                None             sfsegeg\n",
      "13                logo                 erw\n",
      "14                logo                None\n",
      "15                None                 erw\n"
     ]
    }
   ],
   "source": [
    "import pandas as pd\n",
    "\n",
    "# Original DataFrame\n",
    "df = pd.DataFrame({\n",
    "    'Actual keyterms': ['finance', 'management fee', 'Fund', 'Primary Investment', 'Revenue', 'Banking', 'default', 'logo'],\n",
    "    'Predicted keyterms': ['management fee', 'Fund', 'Primary Investment', 'Revenue', 'www', 'efeg', 'sfsegeg', 'erw']\n",
    "})\n",
    "\n",
    "# Determine the maximum length between the two columns\n",
    "max_length = max(len(df['Actual keyterms']), len(df['Predicted keyterms']))\n",
    "\n",
    "# Initialize lists to hold aligned values\n",
    "aligned_actual = []\n",
    "aligned_predicted = []\n",
    "\n",
    "# Iterate through the rows of the DataFrame\n",
    "for i in range(max_length):\n",
    "    # Get values from each column, or None if index out of range\n",
    "    actual_val = df.at[i, 'Actual keyterms'] if i < len(df['Actual keyterms']) else None\n",
    "    predicted_val = df.at[i, 'Predicted keyterms'] if i < len(df['Predicted keyterms']) else None\n",
    "    \n",
    "    # Add values to aligned lists\n",
    "    aligned_actual.append(actual_val)\n",
    "    aligned_predicted.append(predicted_val)\n",
    "    \n",
    "    # If actual value not in predicted, add it with NaN in predicted column\n",
    "    if actual_val is not None and actual_val not in df['Predicted keyterms'].tolist():\n",
    "        aligned_actual.append(actual_val)\n",
    "        aligned_predicted.append(None)\n",
    "    \n",
    "    # If predicted value not in actual, add it with NaN in actual column\n",
    "    if predicted_val is not None and predicted_val not in df['Actual keyterms'].tolist():\n",
    "        aligned_actual.append(None)\n",
    "        aligned_predicted.append(predicted_val)\n",
    "\n",
    "# Create new DataFrame with aligned values\n",
    "new_df = pd.DataFrame({\n",
    "    'Actual keyterms': aligned_actual,\n",
    "    'Predicted keyterms': aligned_predicted\n",
    "})\n",
    "\n",
    "print(new_df)\n"
   ]
  },
  {
   "cell_type": "code",
   "execution_count": null,
   "metadata": {},
   "outputs": [],
   "source": []
  },
  {
   "cell_type": "code",
   "execution_count": null,
   "metadata": {},
   "outputs": [],
   "source": []
  },
  {
   "cell_type": "code",
   "execution_count": null,
   "metadata": {},
   "outputs": [],
   "source": [
    "actual = ['management fee', 'Fund', 'Primary Investment', 'Revenue', \"Banking\",\"default\"]\n",
    "predicted =[\"finance\", \"management fee\", \"Fund\", \"Primary Investment\", \"Revenue\",\"hello\",\"xyz\", \"hi\"]\n",
    "\n",
    "\n",
    "i need a data frame like this\n",
    "\n",
    "actual              predicted\n",
    "management fee     management fee\n",
    "Fund               Fund\n",
    "Primary Investment  Primary Investment\n",
    "Revenue             Revenue  \n",
    "Banking               None\n",
    "default               None\n",
    "None                  finance\n",
    "None                  hello\n",
    "None                  xyz\n",
    "None                   hi"
   ]
  },
  {
   "cell_type": "code",
   "execution_count": null,
   "metadata": {},
   "outputs": [],
   "source": []
  },
  {
   "cell_type": "code",
   "execution_count": 35,
   "metadata": {},
   "outputs": [
    {
     "name": "stdout",
     "output_type": "stream",
     "text": [
      "               actual           predicted\n",
      "0      management fee             finance\n",
      "1                Fund      management fee\n",
      "2  Primary Investment                Fund\n",
      "3             Revenue  Primary Investment\n",
      "4             Banking             Revenue\n",
      "5             default               hello\n",
      "6                None                 xyz\n",
      "7                None                  hi\n"
     ]
    }
   ],
   "source": [
    "import pandas as pd\n",
    "\n",
    "actual = ['management fee', 'Fund', 'Primary Investment', 'Revenue', \"Banking\", \"default\"]\n",
    "predicted = [\"finance\", \"management fee\", \"Fund\", \"Primary Investment\", \"Revenue\", \"hello\", \"xyz\", \"hi\"]\n",
    "\n",
    "# Determine the maximum length between actual and predicted\n",
    "max_length = max(len(actual), len(predicted))\n",
    "\n",
    "# Create DataFrame\n",
    "df = pd.DataFrame(columns=['actual', 'predicted'])\n",
    "\n",
    "# Iterate through both lists and create DataFrame\n",
    "for i in range(max_length):\n",
    "    df.loc[i] = [actual[i] if i < len(actual) else None,\n",
    "                 predicted[i] if i < len(predicted) else None]\n",
    "\n",
    "print(df)\n"
   ]
  },
  {
   "cell_type": "code",
   "execution_count": null,
   "metadata": {},
   "outputs": [],
   "source": []
  },
  {
   "cell_type": "code",
   "execution_count": null,
   "metadata": {},
   "outputs": [],
   "source": []
  },
  {
   "cell_type": "code",
   "execution_count": 30,
   "metadata": {
    "scrolled": true
   },
   "outputs": [
    {
     "name": "stdout",
     "output_type": "stream",
     "text": [
      "               Actual           Predicted\n",
      "0      management fee      management fee\n",
      "1                Fund                Fund\n",
      "2  Primary Investment  Primary Investment\n",
      "3             Revenue             Revenue\n",
      "4             Banking               hello\n",
      "5             default                None\n"
     ]
    }
   ],
   "source": [
    "from itertools import zip_longest\n",
    "\n",
    "actual = ['management fee', 'Fund', 'Primary Investment', 'Revenue', \"Banking\",\"default\"]\n",
    "predicted =[\"management fee\", \"Fund\", \"Primary Investment\", \"Revenue\",\"hello\"]\n",
    "\n",
    "# Determine the maximum length between actual and predicted\n",
    "max_length = max(len(actual), len(predicted))\n",
    "\n",
    "# Adjust the length of actual\n",
    "adjusted_actual = actual + [None] * (max_length - len(actual))\n",
    "\n",
    "# Adjust the length of predicted\n",
    "adjusted_predicted = predicted + [None] * (max_length - len(predicted))\n",
    "\n",
    "# Convert to DataFrame\n",
    "data = pd.DataFrame({'Actual': adjusted_actual, 'Predicted': adjusted_predicted})\n",
    "\n",
    "print(data)\n"
   ]
  },
  {
   "cell_type": "code",
   "execution_count": 31,
   "metadata": {},
   "outputs": [
    {
     "name": "stdout",
     "output_type": "stream",
     "text": [
      "               Actual             Aligned\n",
      "0      management fee      management fee\n",
      "1                Fund                Fund\n",
      "2  Primary Investment  Primary Investment\n",
      "3             Revenue             Revenue\n",
      "4             Banking                    \n",
      "5             default                    \n"
     ]
    }
   ],
   "source": [
    "\n",
    "df = pd.DataFrame(data)\n",
    "df['Aligned'] = ''\n",
    "\n",
    "# Align the keyterms\n",
    "for i, row in df.iterrows():\n",
    "    if row['Actual'] in df['Predicted'].values:\n",
    "        predicted_index = df['Predicted'].values.tolist().index(row['Actual'])\n",
    "        df.at[i, 'Aligned'] = df.at[predicted_index, 'Predicted']\n",
    "\n",
    "# Drop the original Predicted keyterms column to match the final desired output\n",
    "final_df = df[['Actual', 'Aligned']]\n",
    "\n",
    "print(final_df)\n"
   ]
  },
  {
   "cell_type": "code",
   "execution_count": null,
   "metadata": {},
   "outputs": [],
   "source": []
  },
  {
   "cell_type": "code",
   "execution_count": 20,
   "metadata": {},
   "outputs": [],
   "source": [
    "def align_keyterms(actual, predicted):\n",
    "        data = {\n",
    "            'Actual keyterms': actual,\n",
    "            'Predicted keyterms': predicted\n",
    "        }\n",
    "\n",
    "        # Create DataFrame\n",
    "        df = pd.DataFrame(data)\n",
    "\n",
    "        # Create an empty column for Aligned keyterms\n",
    "        df['Aligned keyterms'] = ''\n",
    "\n",
    "        # Align the keyterms\n",
    "        for i, row in df.iterrows():\n",
    "            if row['Actual keyterms'] in df['Predicted keyterms'].values:\n",
    "                predicted_index = df['Predicted keyterms'].values.tolist().index(row['Actual keyterms'])\n",
    "                df.at[i, 'Aligned keyterms'] = df.at[predicted_index, 'Predicted keyterms']\n",
    "\n",
    "        # Drop the original Predicted keyterms column to match the final desired output\n",
    "        final_df = df[['Actual keyterms', 'Aligned keyterms']]\n",
    "        \n",
    "        return final_df "
   ]
  },
  {
   "cell_type": "code",
   "execution_count": 21,
   "metadata": {},
   "outputs": [
    {
     "ename": "ValueError",
     "evalue": "All arrays must be of the same length",
     "output_type": "error",
     "traceback": [
      "\u001b[1;31m---------------------------------------------------------------------------\u001b[0m",
      "\u001b[1;31mValueError\u001b[0m                                Traceback (most recent call last)",
      "\u001b[1;32m<ipython-input-21-4c30be33390a>\u001b[0m in \u001b[0;36m<module>\u001b[1;34m\u001b[0m\n\u001b[1;32m----> 1\u001b[1;33m \u001b[0malign_keyterms\u001b[0m\u001b[1;33m(\u001b[0m\u001b[0mactual\u001b[0m\u001b[1;33m,\u001b[0m \u001b[0mpredicted\u001b[0m\u001b[1;33m)\u001b[0m\u001b[1;33m\u001b[0m\u001b[1;33m\u001b[0m\u001b[0m\n\u001b[0m",
      "\u001b[1;32m<ipython-input-20-022547ddf98c>\u001b[0m in \u001b[0;36malign_keyterms\u001b[1;34m(actual, predicted)\u001b[0m\n\u001b[0;32m      6\u001b[0m \u001b[1;33m\u001b[0m\u001b[0m\n\u001b[0;32m      7\u001b[0m         \u001b[1;31m# Create DataFrame\u001b[0m\u001b[1;33m\u001b[0m\u001b[1;33m\u001b[0m\u001b[1;33m\u001b[0m\u001b[0m\n\u001b[1;32m----> 8\u001b[1;33m         \u001b[0mdf\u001b[0m \u001b[1;33m=\u001b[0m \u001b[0mpd\u001b[0m\u001b[1;33m.\u001b[0m\u001b[0mDataFrame\u001b[0m\u001b[1;33m(\u001b[0m\u001b[0mdata\u001b[0m\u001b[1;33m)\u001b[0m\u001b[1;33m\u001b[0m\u001b[1;33m\u001b[0m\u001b[0m\n\u001b[0m\u001b[0;32m      9\u001b[0m \u001b[1;33m\u001b[0m\u001b[0m\n\u001b[0;32m     10\u001b[0m         \u001b[1;31m# Create an empty column for Aligned keyterms\u001b[0m\u001b[1;33m\u001b[0m\u001b[1;33m\u001b[0m\u001b[1;33m\u001b[0m\u001b[0m\n",
      "\u001b[1;32m~\\anaconda3\\lib\\site-packages\\pandas\\core\\frame.py\u001b[0m in \u001b[0;36m__init__\u001b[1;34m(self, data, index, columns, dtype, copy)\u001b[0m\n\u001b[0;32m    707\u001b[0m         \u001b[1;32melif\u001b[0m \u001b[0misinstance\u001b[0m\u001b[1;33m(\u001b[0m\u001b[0mdata\u001b[0m\u001b[1;33m,\u001b[0m \u001b[0mdict\u001b[0m\u001b[1;33m)\u001b[0m\u001b[1;33m:\u001b[0m\u001b[1;33m\u001b[0m\u001b[1;33m\u001b[0m\u001b[0m\n\u001b[0;32m    708\u001b[0m             \u001b[1;31m# GH#38939 de facto copy defaults to False only in non-dict cases\u001b[0m\u001b[1;33m\u001b[0m\u001b[1;33m\u001b[0m\u001b[1;33m\u001b[0m\u001b[0m\n\u001b[1;32m--> 709\u001b[1;33m             \u001b[0mmgr\u001b[0m \u001b[1;33m=\u001b[0m \u001b[0mdict_to_mgr\u001b[0m\u001b[1;33m(\u001b[0m\u001b[0mdata\u001b[0m\u001b[1;33m,\u001b[0m \u001b[0mindex\u001b[0m\u001b[1;33m,\u001b[0m \u001b[0mcolumns\u001b[0m\u001b[1;33m,\u001b[0m \u001b[0mdtype\u001b[0m\u001b[1;33m=\u001b[0m\u001b[0mdtype\u001b[0m\u001b[1;33m,\u001b[0m \u001b[0mcopy\u001b[0m\u001b[1;33m=\u001b[0m\u001b[0mcopy\u001b[0m\u001b[1;33m,\u001b[0m \u001b[0mtyp\u001b[0m\u001b[1;33m=\u001b[0m\u001b[0mmanager\u001b[0m\u001b[1;33m)\u001b[0m\u001b[1;33m\u001b[0m\u001b[1;33m\u001b[0m\u001b[0m\n\u001b[0m\u001b[0;32m    710\u001b[0m         \u001b[1;32melif\u001b[0m \u001b[0misinstance\u001b[0m\u001b[1;33m(\u001b[0m\u001b[0mdata\u001b[0m\u001b[1;33m,\u001b[0m \u001b[0mma\u001b[0m\u001b[1;33m.\u001b[0m\u001b[0mMaskedArray\u001b[0m\u001b[1;33m)\u001b[0m\u001b[1;33m:\u001b[0m\u001b[1;33m\u001b[0m\u001b[1;33m\u001b[0m\u001b[0m\n\u001b[0;32m    711\u001b[0m             \u001b[1;32mfrom\u001b[0m \u001b[0mnumpy\u001b[0m\u001b[1;33m.\u001b[0m\u001b[0mma\u001b[0m \u001b[1;32mimport\u001b[0m \u001b[0mmrecords\u001b[0m\u001b[1;33m\u001b[0m\u001b[1;33m\u001b[0m\u001b[0m\n",
      "\u001b[1;32m~\\anaconda3\\lib\\site-packages\\pandas\\core\\internals\\construction.py\u001b[0m in \u001b[0;36mdict_to_mgr\u001b[1;34m(data, index, columns, dtype, typ, copy)\u001b[0m\n\u001b[0;32m    479\u001b[0m             \u001b[0marrays\u001b[0m \u001b[1;33m=\u001b[0m \u001b[1;33m[\u001b[0m\u001b[0mx\u001b[0m\u001b[1;33m.\u001b[0m\u001b[0mcopy\u001b[0m\u001b[1;33m(\u001b[0m\u001b[1;33m)\u001b[0m \u001b[1;32mif\u001b[0m \u001b[0mhasattr\u001b[0m\u001b[1;33m(\u001b[0m\u001b[0mx\u001b[0m\u001b[1;33m,\u001b[0m \u001b[1;34m\"dtype\"\u001b[0m\u001b[1;33m)\u001b[0m \u001b[1;32melse\u001b[0m \u001b[0mx\u001b[0m \u001b[1;32mfor\u001b[0m \u001b[0mx\u001b[0m \u001b[1;32min\u001b[0m \u001b[0marrays\u001b[0m\u001b[1;33m]\u001b[0m\u001b[1;33m\u001b[0m\u001b[1;33m\u001b[0m\u001b[0m\n\u001b[0;32m    480\u001b[0m \u001b[1;33m\u001b[0m\u001b[0m\n\u001b[1;32m--> 481\u001b[1;33m     \u001b[1;32mreturn\u001b[0m \u001b[0marrays_to_mgr\u001b[0m\u001b[1;33m(\u001b[0m\u001b[0marrays\u001b[0m\u001b[1;33m,\u001b[0m \u001b[0mcolumns\u001b[0m\u001b[1;33m,\u001b[0m \u001b[0mindex\u001b[0m\u001b[1;33m,\u001b[0m \u001b[0mdtype\u001b[0m\u001b[1;33m=\u001b[0m\u001b[0mdtype\u001b[0m\u001b[1;33m,\u001b[0m \u001b[0mtyp\u001b[0m\u001b[1;33m=\u001b[0m\u001b[0mtyp\u001b[0m\u001b[1;33m,\u001b[0m \u001b[0mconsolidate\u001b[0m\u001b[1;33m=\u001b[0m\u001b[0mcopy\u001b[0m\u001b[1;33m)\u001b[0m\u001b[1;33m\u001b[0m\u001b[1;33m\u001b[0m\u001b[0m\n\u001b[0m\u001b[0;32m    482\u001b[0m \u001b[1;33m\u001b[0m\u001b[0m\n\u001b[0;32m    483\u001b[0m \u001b[1;33m\u001b[0m\u001b[0m\n",
      "\u001b[1;32m~\\anaconda3\\lib\\site-packages\\pandas\\core\\internals\\construction.py\u001b[0m in \u001b[0;36marrays_to_mgr\u001b[1;34m(arrays, columns, index, dtype, verify_integrity, typ, consolidate)\u001b[0m\n\u001b[0;32m    113\u001b[0m         \u001b[1;31m# figure out the index, if necessary\u001b[0m\u001b[1;33m\u001b[0m\u001b[1;33m\u001b[0m\u001b[1;33m\u001b[0m\u001b[0m\n\u001b[0;32m    114\u001b[0m         \u001b[1;32mif\u001b[0m \u001b[0mindex\u001b[0m \u001b[1;32mis\u001b[0m \u001b[1;32mNone\u001b[0m\u001b[1;33m:\u001b[0m\u001b[1;33m\u001b[0m\u001b[1;33m\u001b[0m\u001b[0m\n\u001b[1;32m--> 115\u001b[1;33m             \u001b[0mindex\u001b[0m \u001b[1;33m=\u001b[0m \u001b[0m_extract_index\u001b[0m\u001b[1;33m(\u001b[0m\u001b[0marrays\u001b[0m\u001b[1;33m)\u001b[0m\u001b[1;33m\u001b[0m\u001b[1;33m\u001b[0m\u001b[0m\n\u001b[0m\u001b[0;32m    116\u001b[0m         \u001b[1;32melse\u001b[0m\u001b[1;33m:\u001b[0m\u001b[1;33m\u001b[0m\u001b[1;33m\u001b[0m\u001b[0m\n\u001b[0;32m    117\u001b[0m             \u001b[0mindex\u001b[0m \u001b[1;33m=\u001b[0m \u001b[0mensure_index\u001b[0m\u001b[1;33m(\u001b[0m\u001b[0mindex\u001b[0m\u001b[1;33m)\u001b[0m\u001b[1;33m\u001b[0m\u001b[1;33m\u001b[0m\u001b[0m\n",
      "\u001b[1;32m~\\anaconda3\\lib\\site-packages\\pandas\\core\\internals\\construction.py\u001b[0m in \u001b[0;36m_extract_index\u001b[1;34m(data)\u001b[0m\n\u001b[0;32m    653\u001b[0m         \u001b[0mlengths\u001b[0m \u001b[1;33m=\u001b[0m \u001b[0mlist\u001b[0m\u001b[1;33m(\u001b[0m\u001b[0mset\u001b[0m\u001b[1;33m(\u001b[0m\u001b[0mraw_lengths\u001b[0m\u001b[1;33m)\u001b[0m\u001b[1;33m)\u001b[0m\u001b[1;33m\u001b[0m\u001b[1;33m\u001b[0m\u001b[0m\n\u001b[0;32m    654\u001b[0m         \u001b[1;32mif\u001b[0m \u001b[0mlen\u001b[0m\u001b[1;33m(\u001b[0m\u001b[0mlengths\u001b[0m\u001b[1;33m)\u001b[0m \u001b[1;33m>\u001b[0m \u001b[1;36m1\u001b[0m\u001b[1;33m:\u001b[0m\u001b[1;33m\u001b[0m\u001b[1;33m\u001b[0m\u001b[0m\n\u001b[1;32m--> 655\u001b[1;33m             \u001b[1;32mraise\u001b[0m \u001b[0mValueError\u001b[0m\u001b[1;33m(\u001b[0m\u001b[1;34m\"All arrays must be of the same length\"\u001b[0m\u001b[1;33m)\u001b[0m\u001b[1;33m\u001b[0m\u001b[1;33m\u001b[0m\u001b[0m\n\u001b[0m\u001b[0;32m    656\u001b[0m \u001b[1;33m\u001b[0m\u001b[0m\n\u001b[0;32m    657\u001b[0m         \u001b[1;32mif\u001b[0m \u001b[0mhave_dicts\u001b[0m\u001b[1;33m:\u001b[0m\u001b[1;33m\u001b[0m\u001b[1;33m\u001b[0m\u001b[0m\n",
      "\u001b[1;31mValueError\u001b[0m: All arrays must be of the same length"
     ]
    }
   ],
   "source": [
    "align_keyterms(actual, predicted)"
   ]
  },
  {
   "cell_type": "code",
   "execution_count": null,
   "metadata": {},
   "outputs": [],
   "source": []
  },
  {
   "cell_type": "code",
   "execution_count": null,
   "metadata": {},
   "outputs": [],
   "source": []
  },
  {
   "cell_type": "code",
   "execution_count": 18,
   "metadata": {},
   "outputs": [
    {
     "name": "stdout",
     "output_type": "stream",
     "text": [
      "  input file name     Metric     Score\n",
      "0     sample.xlsx  Precision  1.000000\n",
      "1                     Recall  0.666667\n",
      "2                   F1 Score  0.800000\n",
      "3                   Accuracy  0.666667\n"
     ]
    },
    {
     "data": {
      "text/html": [
       "<div>\n",
       "<style scoped>\n",
       "    .dataframe tbody tr th:only-of-type {\n",
       "        vertical-align: middle;\n",
       "    }\n",
       "\n",
       "    .dataframe tbody tr th {\n",
       "        vertical-align: top;\n",
       "    }\n",
       "\n",
       "    .dataframe thead th {\n",
       "        text-align: right;\n",
       "    }\n",
       "</style>\n",
       "<table border=\"1\" class=\"dataframe\">\n",
       "  <thead>\n",
       "    <tr style=\"text-align: right;\">\n",
       "      <th></th>\n",
       "      <th>Actual keyterms</th>\n",
       "      <th>Aligned keyterms</th>\n",
       "      <th>input file name</th>\n",
       "      <th>Metric</th>\n",
       "      <th>Score</th>\n",
       "    </tr>\n",
       "  </thead>\n",
       "  <tbody>\n",
       "    <tr>\n",
       "      <th>0</th>\n",
       "      <td>Banking</td>\n",
       "      <td></td>\n",
       "      <td>sample.xlsx</td>\n",
       "      <td>Precision</td>\n",
       "      <td>1.000000</td>\n",
       "    </tr>\n",
       "    <tr>\n",
       "      <th>1</th>\n",
       "      <td>Fund</td>\n",
       "      <td>Fund</td>\n",
       "      <td></td>\n",
       "      <td>Recall</td>\n",
       "      <td>0.666667</td>\n",
       "    </tr>\n",
       "    <tr>\n",
       "      <th>2</th>\n",
       "      <td>Primary Investment</td>\n",
       "      <td>Primary Investment</td>\n",
       "      <td></td>\n",
       "      <td>F1 Score</td>\n",
       "      <td>0.800000</td>\n",
       "    </tr>\n",
       "    <tr>\n",
       "      <th>3</th>\n",
       "      <td>Revenue</td>\n",
       "      <td>Revenue</td>\n",
       "      <td></td>\n",
       "      <td>Accuracy</td>\n",
       "      <td>0.666667</td>\n",
       "    </tr>\n",
       "    <tr>\n",
       "      <th>4</th>\n",
       "      <td>default</td>\n",
       "      <td></td>\n",
       "      <td>NaN</td>\n",
       "      <td>NaN</td>\n",
       "      <td>NaN</td>\n",
       "    </tr>\n",
       "    <tr>\n",
       "      <th>5</th>\n",
       "      <td>management fee</td>\n",
       "      <td>management fee</td>\n",
       "      <td>NaN</td>\n",
       "      <td>NaN</td>\n",
       "      <td>NaN</td>\n",
       "    </tr>\n",
       "  </tbody>\n",
       "</table>\n",
       "</div>"
      ],
      "text/plain": [
       "      Actual keyterms    Aligned keyterms input file name     Metric     Score\n",
       "0             Banking                         sample.xlsx  Precision  1.000000\n",
       "1                Fund                Fund                     Recall  0.666667\n",
       "2  Primary Investment  Primary Investment                   F1 Score  0.800000\n",
       "3             Revenue             Revenue                   Accuracy  0.666667\n",
       "4             default                                 NaN        NaN       NaN\n",
       "5      management fee      management fee             NaN        NaN       NaN"
      ]
     },
     "execution_count": 18,
     "metadata": {},
     "output_type": "execute_result"
    }
   ],
   "source": [
    "all_terms = list(set(predicted + actual))\n",
    "y_true = [1 if term in actual else 0 for term in all_terms]\n",
    "y_pred = [1 if term in predicted else 0 for term in all_terms]\n",
    "\n",
    "\n",
    "precision = precision_score(y_true, y_pred)\n",
    "recall = recall_score(y_true, y_pred)\n",
    "f1 = f1_score(y_true, y_pred)\n",
    "accuracy = accuracy_score(y_true, y_pred)\n",
    "\n",
    "scores_dic = {\n",
    "    'input file name': [input_excel_file_name] * 4,\n",
    "    'Metric': ['Precision', 'Recall', 'F1 Score', 'Accuracy'],\n",
    "    'Score': [precision, recall, f1, accuracy]\n",
    "}\n",
    "\n",
    "scores_df = pd.DataFrame(scores_dic)\n",
    "scores_df.loc[1:, 'input file name'] = ''\n",
    "\n",
    "# Print the DataFrame\n",
    "print(scores_df)\n",
    "\n",
    "\n",
    "result = pd.concat([final_df, scores_df], axis=1)\n",
    "result.set_index(\"\")"
   ]
  },
  {
   "cell_type": "code",
   "execution_count": null,
   "metadata": {},
   "outputs": [],
   "source": []
  },
  {
   "cell_type": "code",
   "execution_count": 5,
   "metadata": {},
   "outputs": [
    {
     "name": "stdout",
     "output_type": "stream",
     "text": [
      "Precision: 1.00\n",
      "Recall: 0.67\n",
      "F1 Score: 0.80\n",
      "Accuracy: 0.67\n",
      "Metrics written to C:\\Users\\venum\\Downloads/sample_keyterms_evaluation_metrics.csv\n"
     ]
    }
   ],
   "source": [
    "import csv\n",
    "from sklearn.metrics import precision_score, recall_score, f1_score, accuracy_score\n",
    "\n",
    "def export_evaluation_metrics_as_csv(input_excel_file_name, output_location, actual, predicted):\n",
    "    \n",
    "    def align_keyterms():\n",
    "        data = {\n",
    "            'Actual keyterms': actual,\n",
    "            'Predicted keyterms': predicted\n",
    "        }\n",
    "\n",
    "        # Create DataFrame\n",
    "        df = pd.DataFrame(data)\n",
    "\n",
    "        # Create an empty column for Aligned keyterms\n",
    "        df['Aligned keyterms'] = ''\n",
    "\n",
    "        # Align the keyterms\n",
    "        for i, row in df.iterrows():\n",
    "            if row['Actual keyterms'] in df['Predicted keyterms'].values:\n",
    "                predicted_index = df['Predicted keyterms'].values.tolist().index(row['Actual keyterms'])\n",
    "                df.at[i, 'Aligned keyterms'] = df.at[predicted_index, 'Predicted keyterms']\n",
    "\n",
    "        # Drop the original Predicted keyterms column to match the final desired output\n",
    "        final_df = df[['Actual keyterms', 'Aligned keyterms']]\n",
    "\n",
    "\n",
    "    # Binarize the predicted and actual key terms\n",
    "    all_terms = list(set(predicted + actual))\n",
    "    y_true = [1 if term in actual else 0 for term in all_terms]\n",
    "    y_pred = [1 if term in predicted else 0 for term in all_terms]\n",
    "\n",
    "    # Calculate precision, recall, f1 score, and accuracy\n",
    "    precision = precision_score(y_true, y_pred)\n",
    "    recall = recall_score(y_true, y_pred)\n",
    "    f1 = f1_score(y_true, y_pred)\n",
    "    accuracy = accuracy_score(y_true, y_pred)\n",
    "\n",
    "    \n",
    "\n",
    "# Example usage\n",
    "\n",
    "\n",
    "\n",
    "# Example usage\n",
    "output_location = r\"C:\\Users\\venum\\Downloads\"\n",
    "\n",
    "export_evaluation_metrics_as_csv(input_excel_file_name, output_location, actual, predicted)\n"
   ]
  },
  {
   "cell_type": "code",
   "execution_count": null,
   "metadata": {},
   "outputs": [],
   "source": []
  },
  {
   "cell_type": "code",
   "execution_count": 47,
   "metadata": {},
   "outputs": [
    {
     "name": "stdout",
     "output_type": "stream",
     "text": [
      "      Actual keyterms    Aligned keyterms\n",
      "0             Banking                    \n",
      "1                Fund                Fund\n",
      "2  Primary Investment  Primary Investment\n",
      "3             Revenue             Revenue\n",
      "4             default                    \n",
      "5      management fee      management fee\n"
     ]
    }
   ],
   "source": [
    "import pandas as pd\n",
    "\n",
    "actual = ['Banking', 'Fund', 'Primary Investment', 'Revenue', 'default', 'management fee']\n",
    "predicted = ['Fund', 'Primary Investment', 'Revenue', 'management fee','xyz']\n",
    "\n",
    "def maintain_length(list1, list2, placeholder=None):\n",
    "    max_length = max(len(list1), len(list2))\n",
    "    while len(list1) < max_length:\n",
    "        list1.append(placeholder)\n",
    "    while len(list2) < max_length:\n",
    "        list2.append(placeholder)\n",
    "    return list1, list2\n",
    "\n",
    "actual, predicted = maintain_length(actual, predicted)\n",
    "\n",
    "data = {\n",
    "    'Actual keyterms': actual,\n",
    "    'Predicted keyterms': predicted\n",
    "}\n",
    "\n",
    "# Create DataFrame\n",
    "df = pd.DataFrame(data)\n",
    "\n",
    "# Create an empty column for Aligned keyterms\n",
    "df['Aligned keyterms'] = ''\n",
    "\n",
    "# Align the keyterms\n",
    "for i, row in df.iterrows():\n",
    "    if row['Actual keyterms'] in df['Predicted keyterms'].values:\n",
    "        predicted_index = df['Predicted keyterms'].values.tolist().index(row['Actual keyterms'])\n",
    "        df.at[i, 'Aligned keyterms'] = df.at[predicted_index, 'Predicted keyterms']\n",
    "\n",
    "# Drop the original Predicted keyterms column to match the final desired output\n",
    "final_df = df[['Actual keyterms', 'Aligned keyterms']]\n",
    "\n",
    "print(final_df)\n"
   ]
  },
  {
   "cell_type": "code",
   "execution_count": null,
   "metadata": {},
   "outputs": [],
   "source": []
  },
  {
   "cell_type": "code",
   "execution_count": null,
   "metadata": {},
   "outputs": [],
   "source": []
  },
  {
   "cell_type": "code",
   "execution_count": null,
   "metadata": {},
   "outputs": [],
   "source": []
  },
  {
   "cell_type": "code",
   "execution_count": null,
   "metadata": {},
   "outputs": [],
   "source": []
  },
  {
   "cell_type": "code",
   "execution_count": 33,
   "metadata": {},
   "outputs": [
    {
     "name": "stdout",
     "output_type": "stream",
     "text": [
      "Precision: 1.00\n",
      "Recall: 0.67\n",
      "F1 Score: 0.80\n",
      "Accuracy: 0.67\n",
      "Metrics written to C:\\Users\\venum\\Downloads/sample_keyterms_evaluation_metrics.xlsx\n"
     ]
    }
   ],
   "source": [
    "import pandas as pd\n",
    "import xlsxwriter\n",
    "from sklearn.metrics import precision_score, recall_score, f1_score, accuracy_score\n",
    "\n",
    "def export_evalution_metrics_as_excel(input_excel_file_name, output_location, actual, predicted):\n",
    "    temp = input_excel_file_name\n",
    "    input_excel_file_name = input_excel_file_name.split(\"/\")[-1]\n",
    "    input_excel_file_name = input_excel_file_name.split(\".\")[0]\n",
    "    # Binarize the predicted and actual key terms\n",
    "    all_terms = list(set(predicted + actual))\n",
    "    y_true = [1 if term in actual else 0 for term in all_terms]\n",
    "    y_pred = [1 if term in predicted else 0 for term in all_terms]\n",
    "\n",
    "    # Calculate precision, recall, f1 score, and accuracy\n",
    "    precision = precision_score(y_true, y_pred)\n",
    "    recall = recall_score(y_true, y_pred)\n",
    "    f1 = f1_score(y_true, y_pred)\n",
    "    accuracy = accuracy_score(y_true, y_pred)\n",
    "\n",
    "    # Print the scores\n",
    "    print(f\"Precision: {precision:.2f}\")\n",
    "    print(f\"Recall: {recall:.2f}\")\n",
    "    print(f\"F1 Score: {f1:.2f}\")\n",
    "    print(f\"Accuracy: {accuracy:.2f}\")\n",
    "    \n",
    "    output_file_path = f\"{output_location}/{input_excel_file_name}_keyterms_evaluation_metrics.xlsx\"\n",
    "\n",
    "    # Create a workbook and add a worksheet\n",
    "    workbook = xlsxwriter.Workbook(output_file_path)\n",
    "    worksheet = workbook.add_worksheet()\n",
    "\n",
    "    # Add a bold format to use for the headers\n",
    "    bold = workbook.add_format({'bold': True})\n",
    "\n",
    "    # Write the extracted file name\n",
    "    worksheet.write('A1', 'Extracted file name', bold)\n",
    "    worksheet.write('B1', temp)\n",
    "\n",
    "    # Write the actual key terms\n",
    "    worksheet.write('A2', 'Actual keyterms :', bold)\n",
    "    worksheet.write_row('B2', actual)\n",
    "\n",
    "    # Write the predicted key terms\n",
    "    worksheet.write('A3', 'Predicted keyterms :', bold)\n",
    "    worksheet.write_row('B3', predicted)\n",
    "\n",
    "    # Leave a blank row\n",
    "    worksheet.write('A4', '', bold)\n",
    "    worksheet.write('B4', '')\n",
    "\n",
    "    # Write the metrics headers\n",
    "    worksheet.write('A5', 'Metric', bold)\n",
    "    worksheet.write('B5', 'Value', bold)\n",
    "\n",
    "    # Write the metrics\n",
    "    metrics = [('Precision', precision), ('Recall', recall), ('F1 Score', f1), ('Accuracy', accuracy)]\n",
    "    row = 5\n",
    "    for metric, value in metrics:\n",
    "        worksheet.write(row, 0, metric)\n",
    "        worksheet.write(row, 1, value)\n",
    "        row += 1\n",
    "\n",
    "    workbook.close()\n",
    "\n",
    "    print(f\"Metrics written to {output_file_path}\")\n",
    "\n",
    "\n",
    "output_location = r\"C:\\Users\\venum\\Downloads\"\n",
    "\n",
    "export_evalution_metrics_as_excel(input_excel_file_name, output_location, actual, predicted)\n"
   ]
  },
  {
   "cell_type": "code",
   "execution_count": null,
   "metadata": {},
   "outputs": [],
   "source": []
  },
  {
   "cell_type": "code",
   "execution_count": null,
   "metadata": {},
   "outputs": [],
   "source": []
  },
  {
   "cell_type": "code",
   "execution_count": null,
   "metadata": {},
   "outputs": [],
   "source": []
  },
  {
   "cell_type": "code",
   "execution_count": 39,
   "metadata": {},
   "outputs": [],
   "source": [
    "actual = ['management fee', 'Fund', 'Primary Investment', 'Revenue', \"Banking\",\"default\"]\n",
    "predicted =[\"finance\", \"management fee\", \"Fund\", \"Primary Investment\", \"Revenue\",\"hello\",\"xyz\", \"hi\"]\n"
   ]
  },
  {
   "cell_type": "code",
   "execution_count": 42,
   "metadata": {},
   "outputs": [
    {
     "name": "stdout",
     "output_type": "stream",
     "text": [
      "['management fee', 'Fund', 'Primary Investment', 'Revenue', 'Banking', 'default']\n",
      "['finance', 'management fee', 'Fund', 'Primary Investment', None, None]\n"
     ]
    }
   ],
   "source": [
    "def maintain_length(list1, list2, placeholder=None):\n",
    "    max_length = max(len(list1), len(list2))\n",
    "    while len(list1) < max_length:\n",
    "        list1.append(placeholder)\n",
    "    while len(list2) < max_length:\n",
    "        list2.append(placeholder)\n",
    "    return list1, list2\n",
    "\n",
    "actual = ['management fee', 'Fund', 'Primary Investment', 'Revenue', \"Banking\", \"default\"]\n",
    "predicted = [\"finance\", \"management fee\", \"Fund\", \"Primary Investment\", \"Revenue\", \"hello\", \"xyz\", \"hi\"]\n",
    "\n",
    "actual, predicted = maintain_length(actual, predicted)\n",
    "\n",
    "print(actual)\n",
    "print(predicted)\n"
   ]
  },
  {
   "cell_type": "code",
   "execution_count": null,
   "metadata": {},
   "outputs": [],
   "source": [
    "\n",
    "if len(actual) < len(predicted):\n",
    "\n",
    "    for i"
   ]
  }
 ],
 "metadata": {
  "kernelspec": {
   "display_name": "Python 3",
   "language": "python",
   "name": "python3"
  },
  "language_info": {
   "codemirror_mode": {
    "name": "ipython",
    "version": 3
   },
   "file_extension": ".py",
   "mimetype": "text/x-python",
   "name": "python",
   "nbconvert_exporter": "python",
   "pygments_lexer": "ipython3",
   "version": "3.8.5"
  }
 },
 "nbformat": 4,
 "nbformat_minor": 4
}

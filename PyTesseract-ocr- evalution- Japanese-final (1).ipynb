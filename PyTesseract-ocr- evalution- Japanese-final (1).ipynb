{
 "cells": [
  {
   "cell_type": "code",
   "execution_count": null,
   "id": "15b27352",
   "metadata": {},
   "outputs": [],
   "source": [
    "#japanese language\n",
    "#https://github.com/tesseract-ocr/tessdata"
   ]
  },
  {
   "cell_type": "code",
   "execution_count": 10,
   "id": "a0e012f9",
   "metadata": {},
   "outputs": [],
   "source": [
    "#Importing Libraries\n",
    "#!pip install pytesseract\n",
    "import pytesseract \n",
    "import cv2\n",
    "#!pip install pdf2image\n",
    "from pdf2image import convert_from_path\n",
    "import glob\n",
    "from PyPDF2 import PdfFileMerger\n",
    "import os\n",
    "import warnings\n",
    "warnings.filterwarnings(\"ignore\")"
   ]
  },
  {
   "cell_type": "code",
   "execution_count": 11,
   "id": "4d88c289",
   "metadata": {},
   "outputs": [],
   "source": [
    "#Cleaning directories\n",
    "import os\n",
    "def clean_dir():\n",
    "    d=\"image_path\"\n",
    "    filesToRemove = [os.path.join(d,f) for f in os.listdir(d)]\n",
    "    for f in filesToRemove:\n",
    "        os.remove(f) \n",
    "      \n",
    "    d=\"pdfs_out_path\"\n",
    "    filesToRemove = [os.path.join(d,f) for f in os.listdir(d)]\n",
    "    for f in filesToRemove:\n",
    "        os.remove(f)  \n",
    "        "
   ]
  },
  {
   "cell_type": "code",
   "execution_count": 22,
   "id": "cdc9a5eb",
   "metadata": {},
   "outputs": [],
   "source": [
    "#Converting Scanned Pdf to searchable pdf\n",
    "def create_searchable_pdf(pdf_file):\n",
    "    \n",
    "    ext = os.path.splitext(pdf_file)\n",
    "    filename = \"\"\n",
    "    \n",
    "    filename = ext[0].split(\"//\")[-1]\n",
    "   \n",
    "    total_images=0\n",
    "\n",
    "    #Need to download tesseract to pur local machine https://digi.bib.uni-mannheim.de/tesseract/tesseract-ocr-w64-setup-v5.0.0-alpha.20201127.exe\n",
    "    pytesseract.pytesseract.tesseract_cmd =r'C:\\Program Files\\Tesseract-OCR\\tesseract.exe'\n",
    "\n",
    "    pdfs = glob.glob(pdf_file)\n",
    "\n",
    "    for pdf_path in pdfs:\n",
    "        #Need to dowload poppler http://blog.alivate.com.au/poppler-windows/\n",
    "        pages = convert_from_path(pdf_path, 500,poppler_path=r'C:\\Program Files\\poppler-0.68.0\\bin')\n",
    "\n",
    "        for pageNum,imgBlob in enumerate(pages):\n",
    "            if not os.path.isdir(\"image_path/\"):\n",
    "                os.mkdir(\"image_path/\",mode=0o777)\n",
    "            imgBlob.save('image_path/'+str(pageNum) + \"_\" + filename +'_image_converted.jpg') \n",
    "            #imgBlob.save( 'image_converted.jpg')\n",
    "            total_images +=1\n",
    "\n",
    "\n",
    "    print('pdf file to '+ str(total_images) + ' images converted successfully' ) \n",
    "\n",
    "    pdfs = []\n",
    "    pytesseract.pytesseract.tesseract_cmd = r'C:\\Program Files\\Tesseract-OCR\\tesseract.exe'\n",
    "    TESSDATA_PREFIX = r\"C:\\Program Files\\Tesseract-OCR\"\n",
    "    tessdata_dir_config = '--tessdata-dir \"C://Program Files//Tesseract-OCR//tessdata\"'\n",
    "\n",
    "    for root, dirs, files in os.walk(\"image_path/\"):\n",
    "        for file in files: \n",
    "            #print(filename)\n",
    "            ext = os.path.splitext(file)\n",
    "            fname = \"\"    \n",
    "            fname = ext[0].split(\"//\")[-1] \n",
    "            img = cv2.imread(\"image_path/\"+file,1)\n",
    "            result = pytesseract.image_to_pdf_or_hocr(img, lang =\"kor\",\n",
    "                                                     config = tessdata_dir_config)\n",
    "            if not os.path.isdir(\"pdfs_out_path/\"):\n",
    "                os.mkdir(\"pdfs_out_path/\",mode=0o777)\n",
    "\n",
    "            f = open( \"pdfs_out_path/\"+fname+\"searchable_pdf.pdf\", \"w+b\")\n",
    "            f.write(bytearray(result))\n",
    "            f.close()\n",
    "            pdfs.append(fname + \"searchable_pdf.pdf\")\n",
    "\n",
    "    merger = PdfFileMerger()     \n",
    "    for pdf in pdfs:\n",
    "        merger.append(\"pdfs_out_path/\"+pdf)\n",
    "\n",
    "    if not os.path.isdir(\"result/\"):\n",
    "                os.mkdir(\"result/\",mode=0o777)\n",
    "    merger.write(\"result/\" + filename + \"_searchable_pdf_from_pdf.pdf\")\n",
    "\n",
    "    print(\"Searchable Pdf Created Successfully\")\n",
    "    merger.close()\n",
    "    clean_dir()\n"
   ]
  },
  {
   "cell_type": "code",
   "execution_count": 23,
   "id": "9121fa5a",
   "metadata": {},
   "outputs": [],
   "source": [
    "#converting sacnned image to searchable pdf\n",
    "def img_to_searchable_pdf(file):\n",
    "        #Need to download tesseract to pur local machine https://digi.bib.uni-mannheim.de/tesseract/tesseract-ocr-w64-setup-v5.0.0-alpha.20201127.exe\n",
    "\n",
    "    ext = os.path.splitext(file)\n",
    "    filename = \"\"\n",
    "    \n",
    "    filename = ext[0].split(\"//\")[-1]\n",
    "    \n",
    "    #print(filename)\n",
    "    pytesseract.pytesseract.tesseract_cmd = r'C:\\Program Files\\Tesseract-OCR\\tesseract.exe'\n",
    "    TESSDATA_PREFIX = r\"C:\\Program Files\\Tesseract-OCR\"\n",
    "    tessdata_dir_config = '--tessdata-dir \"C://Program Files//Tesseract-OCR//tessdata\"'    \n",
    "\n",
    "        \n",
    "    img = cv2.imread(file, 1)\n",
    "    result = pytesseract.image_to_pdf_or_hocr(img, lang =\"kor\",\n",
    "                                             config = tessdata_dir_config)\n",
    "    if not os.path.isdir(\"result/\"):\n",
    "                os.mkdir(\"result/\",mode=0o777)\n",
    "    f = open( \"result/\"+ filename +\"_searchable_pdf_from_image.pdf\", \"w+b\")\n",
    "    f.write(bytearray(result))\n",
    "    f.close()\n",
    "    print(\"Searchable Pdf Created Successfully\")"
   ]
  },
  {
   "cell_type": "code",
   "execution_count": 24,
   "id": "e7747a49",
   "metadata": {},
   "outputs": [],
   "source": [
    "#Process\n",
    "\n",
    "def searchable_pdf_process(file):\n",
    "    ext = os.path.splitext(file)\n",
    "    if ext[-1] == '.pdf':\n",
    "        create_searchable_pdf(file)  \n",
    "    else: \n",
    "        img_to_searchable_pdf(file)"
   ]
  },
  {
   "cell_type": "code",
   "execution_count": 79,
   "id": "9e3f50c2",
   "metadata": {},
   "outputs": [
    {
     "name": "stdout",
     "output_type": "stream",
     "text": [
      "pdf file to 1 images converted successfully\n",
      "Searchable Pdf Created Successfully\n"
     ]
    }
   ],
   "source": [
    "#For scanned pdf\n",
    "searchable_pdf_process(\"japanese//9.pdf\")"
   ]
  },
  {
   "cell_type": "code",
   "execution_count": 7,
   "id": "82c58a0e",
   "metadata": {},
   "outputs": [
    {
     "name": "stdout",
     "output_type": "stream",
     "text": [
      "Searchable Pdf Created Successfully\n"
     ]
    }
   ],
   "source": [
    "#For Scanned image\n",
    "#searchable_pdf_process(\"japanese//jap.png\")"
   ]
  },
  {
   "cell_type": "markdown",
   "id": "3dfc111e",
   "metadata": {},
   "source": [
    "# Text Collection\n",
    "\n",
    "from scaned pdf and image\n",
    "\n"
   ]
  },
  {
   "cell_type": "code",
   "execution_count": 80,
   "id": "b88d8ef7",
   "metadata": {},
   "outputs": [
    {
     "name": "stdout",
     "output_type": "stream",
     "text": [
      "*********************************SCANNED TEXT ************************************\n",
      "있 다 ． \n",
      "저 성 장 시 대 에 코 로 나 １9 까 지 덮 치 며 급 감 한 일 자 리 와 증 폭 된 고 용 불 안 은 -１ｍ \n",
      "ｍ 의 \n",
      "차 별 ． １ｍｍ 의 \n",
      "양 보 도 용 납 할 수 \n",
      "없 다 ＂ 며 \n",
      "남 녀 를 \n",
      "서 로 의 \n",
      "생 존 \n",
      "경 쟁 자 로 지 목 하 게 \n",
      "했 \n",
      "다 ． 양 극 화 ． 연 \n",
      "공 제 로 대 표 되 는 세 대 칸 불 평등 역시 청 년 고 용 을 축 소 시 키 며 파 이 \n",
      "를 둘 러 싼 젠 더 갈 등 을 심 화 했 다 ． 공 \n",
      "감 - 배 려 대 신 승 자 독 식 을 가 \n",
      "르 치 는 입 시 위 주 \n",
      "고 육 현 장 은 혐 오가 싹 트 기 좋 은 환 \n",
      "경 으 로 전 락 했 다 ． 호 추 제 는 폐 지 됐 으 나 \n",
      "` 남 성 은 \n",
      "여 전 히 １ 차 생 계 부 양 자 ` 라 는 가 부 장 문 화도 젠 더 칼 등 의 \n",
      "진 원 지 다 ． 여 성도 구 시 대 \n",
      "고 통을 답 습 한 다 ． ５０ 대 엄 마 가 겪 던 경 력 단 절을 ２０ 대 딸 도 겪 는 다 ． ０6０ \n",
      "ㅁ \n",
      "꼴 찌 인 ０ \n",
      "8１ 명 의 \n",
      "출 산 률 마 저 \n",
      "제 로 （０) \n",
      "가 되 \n",
      "는 \n",
      "건 \n",
      "시 간 문 제 다 ． \n",
      "그 러 나 \n",
      "위 기 는 늘 \n",
      "기 회 였 \n",
      "다 ． ２０ 대 납 녀 의 \n",
      "철 규 는 \n",
      "대 한 민 국 의 \n",
      "교 육 , \n",
      "복 지 , \n",
      "고 용 , \n",
      "저 출 \n",
      "찬 \n",
      "청 책 \n",
      "천 반에 새 를 짜 기 를 \n",
      "요 구 한 다 ． \n",
      "불 평 등 , \n",
      "불 공 청 믈 \n",
      "바 로 합 고 \n",
      "계 층 - 성 별 \n",
      "- 세 대 \n",
      "간 \n",
      "증 오 를 \n",
      "이 해 와 \n",
      "관 용 으 로 \n",
      "승 화 시 키 는 젓 \n",
      "이 \n",
      "청 치 의 \n",
      "역 할 임 을 일 깨 \n",
      "문 다 ‥ \n",
      "분 단 \n",
      "이 \n",
      "낳 은 \n",
      "편 \n",
      "가 르 \n",
      "기 \n",
      "악 습 을 \n",
      "포 용의 \n",
      "문 화 로 바 \n",
      "뀌 야 \n",
      "모 두 가 살 수 있 다 고 \n",
      "경 고 한 다 ． \n",
      "２０２２ \n",
      "다 시 \n",
      "쓰 는 첸 더 \n",
      "리 포 트 ` 는 그 \n",
      "해 법 를 찾 \n",
      "기 위 한 \n",
      "첫 컬 음 이 다 ． 우 리 사 회 첸 더 갈 \n",
      "등 이 벌 \n",
      "어 지 는 현 창 을 \n",
      "친 단 하 고 좌 우 ． \n",
      "세 대 ． 계 \n",
      "층 ． \n",
      "성 별 를 \n",
      "망 라 한 \n",
      "천 문 가 들 과 \n",
      "머 리 를 \n",
      "맞 댔 다 ． 첸 더 최 천 선 \n",
      "이 된 \n",
      "온 라인 \n",
      "커 뮤 니 티 \n",
      "와 일부 유 튜 버 들 \n",
      "이 \n",
      "선 동 - \n",
      "왜 곡 하 고 \n",
      "증 폭 \n",
      "시 켜 론 \n",
      "가 짜 뉴 스 들 을 걸 \n",
      "러 내 는 데 특 히 \n",
      "심 혈 를 \n",
      "기 룰 였 다 ．\n",
      "\n"
     ]
    }
   ],
   "source": [
    "#!pip install fitz\n",
    "#!pip install PyMuPDF\n",
    "import fitz\n",
    "\n",
    "\n",
    "\n",
    "def get_text(file):\n",
    "    doc = fitz.open(file)\n",
    "    text = \"\"\n",
    "    for page in doc:\n",
    "        text += page.get_text()\n",
    "    return text    \n",
    "    \n",
    "pdf_file_path = 'result//9_searchable_pdf_from_pdf.pdf'\n",
    "#image_file_path = 'result//jap_searchable_pdf_from_image.pdf'\n",
    "\n",
    "pdf_text =  get_text(pdf_file_path)\n",
    "pdf_text\n",
    "#image_text =  get_text(image_file_path)\n",
    "print(\"*********************************SCANNED TEXT ************************************\")\n",
    "print(pdf_text)\n",
    "#print(\"*********************************IMAGE TEXT ************************************\")\n",
    "#print(image_text)"
   ]
  },
  {
   "cell_type": "markdown",
   "id": "9a469747",
   "metadata": {},
   "source": [
    "# Preprocessing"
   ]
  },
  {
   "cell_type": "code",
   "execution_count": 81,
   "id": "c2bb31fa",
   "metadata": {},
   "outputs": [
    {
     "data": {
      "text/plain": [
       "'있다．저성장시대에코로나１9까지덮치며급감한일자리와증폭된고용불안은-１ｍｍ의차별．１ｍｍ의양보도용납할수없다＂며남녀를서로의생존경쟁자로지목하게했다．양극화．연공제로대표되는세대칸불평등역시청년고용을축소시키며파이를둘러싼젠더갈등을심화했다．공감-배려대신승자독식을가르치는입시위주고육현장은혐오가싹트기좋은환경으로전락했다．호추제는폐지됐으나`남성은여전히１차생계부양자`라는가부장문화도젠더칼등의진원지다．여성도구시대고통을답습한다．５０대엄마가겪던경력단절을２０대딸도겪는다．０6０ㅁ꼴찌인０8１명의출산률마저제로（０)가되는건시간문제다．그러나위기는늘기회였다．２０대납녀의철규는대한민국의교육,복지,고용,저출찬청책천반에새를짜기를요구한다．불평등,불공청믈바로합고계층-성별-세대간증오를이해와관용으로승화시키는젓이청치의역할임을일깨문다‥분단이낳은편가르기악습을포용의문화로바뀌야모두가살수있다고경고한다．２０２２다시쓰는첸더리포트`는그해법를찾기위한첫컬음이다．우리사회첸더갈등이벌어지는현창을친단하고좌우．세대．계층．성별를망라한천문가들과머리를맞댔다．첸더최천선이된온라인커뮤니티와일부유튜버들이선동-왜곡하고증폭시켜론가짜뉴스들을걸러내는데특히심혈를기룰였다．'"
      ]
     },
     "execution_count": 81,
     "metadata": {},
     "output_type": "execute_result"
    }
   ],
   "source": [
    "pdf_text = pdf_text.replace(\"\\n\",\"\").replace(\" \",\"\")\n",
    "pdf_text"
   ]
  },
  {
   "cell_type": "markdown",
   "id": "f51848de",
   "metadata": {},
   "source": [
    "# Text Collection\n",
    "\n",
    "from text file"
   ]
  },
  {
   "cell_type": "code",
   "execution_count": 82,
   "id": "0d166baa",
   "metadata": {},
   "outputs": [
    {
     "data": {
      "text/plain": [
       "'\\ufeff있다. 저성장 시대에 코로나19까지 덮치며 급감한 일자리와 증폭된 고용 불안은 “1mm의 차별, 1mm의 양보도 용납할 수 없다”며 남녀를 서로의 생존 경쟁자로 지목하게 했다. 양극화, 연공제로 대표되는 세대 간 불평등 역시 청년 고용을 축소시키며 파이를 둘러싼 젠더 갈등을 심화했다. 공감·배려 대신 승자 독식을 가르치는 입시 위주 교육 현장은 혐오가 싹트기 좋은 환경으로 전락했다. 호주제는 폐지됐으나 ‘남성은 여전히 1차 생계 부양자’라는 가부장 문화도 젠더 갈등의 진원지다. 여성도 구시대 고통을 답습한다. 50대 엄마가 겪던 경력 단절을 20대 딸도 겪는다. OECD 꼴찌인 0.81명의 출산률마저 제로(0)가 되는 건 시간문제다.\\n\\n그러나 위기는 늘 기회였다. 20대 남녀의 절규는 대한민국의 교육, 복지, 고용, 저출산 정책 전반에 ‘새 틀 짜기’를 요구한다. 불평등, 불공정을 바로잡고 계층·성별·세대 간 증오를 이해와 관용으로 승화시키는 것이 정치의 역할임을 일깨운다. 분단이 낳은 편 가르기 악습을 포용의 문화로 바꿔야 모두가 살 수 있다고 경고한다.\\n\\n‘2022 다시 쓰는 젠더 리포트’는 그 해법을 찾기 위한 첫걸음이다. 우리 사회 젠더 갈등이 벌어지는 현장을 진단하고 좌우, 세대, 계층, 성별을 망라한 전문가들과 머리를 맞댔다. 젠더 최전선이 된 온라인 커뮤니티와 일부 유튜버들이 선동·왜곡하고 증폭시켜온 가짜 뉴스들을 걸러내는 데 특히 심혈을 기울였다.'"
      ]
     },
     "execution_count": 82,
     "metadata": {},
     "output_type": "execute_result"
    }
   ],
   "source": [
    "# Reading Raw Text\n",
    "raw_text = open(r'C:\\Users\\User\\Desktop\\Natixis_Final_10.09.2022\\japanese\\9t.txt', encoding=\"utf-8\").read()\n",
    "raw_text"
   ]
  },
  {
   "cell_type": "code",
   "execution_count": 83,
   "id": "b92db26b",
   "metadata": {},
   "outputs": [
    {
     "data": {
      "text/plain": [
       "'있다.저성장시대에코로나19까지덮치며급감한일자리와증폭된고용불안은“1mm의차별,1mm의양보도용납할수없다”며남녀를서로의생존경쟁자로지목하게했다.양극화,연공제로대표되는세대간불평등역시청년고용을축소시키며파이를둘러싼젠더갈등을심화했다.공감·배려대신승자독식을가르치는입시위주교육현장은혐오가싹트기좋은환경으로전락했다.호주제는폐지됐으나‘남성은여전히1차생계부양자’라는가부장문화도젠더갈등의진원지다.여성도구시대고통을답습한다.50대엄마가겪던경력단절을20대딸도겪는다.OECD꼴찌인0.81명의출산률마저제로(0)가되는건시간문제다.그러나위기는늘기회였다.20대남녀의절규는대한민국의교육,복지,고용,저출산정책전반에‘새틀짜기’를요구한다.불평등,불공정을바로잡고계층·성별·세대간증오를이해와관용으로승화시키는것이정치의역할임을일깨운다.분단이낳은편가르기악습을포용의문화로바꿔야모두가살수있다고경고한다.‘2022다시쓰는젠더리포트’는그해법을찾기위한첫걸음이다.우리사회젠더갈등이벌어지는현장을진단하고좌우,세대,계층,성별을망라한전문가들과머리를맞댔다.젠더최전선이된온라인커뮤니티와일부유튜버들이선동·왜곡하고증폭시켜온가짜뉴스들을걸러내는데특히심혈을기울였다.'"
      ]
     },
     "execution_count": 83,
     "metadata": {},
     "output_type": "execute_result"
    }
   ],
   "source": [
    "# Replacing Unncessary things\n",
    "raw_text = raw_text.replace(\"\\ufeff\",\"\").replace(\" \",\"\")\n",
    "raw_text=raw_text.replace(\"\\n\",\"\").replace(\" \",\"\")\n",
    "raw_text=raw_text.replace(\"\\t\",\"\").replace(\" \",\"\")\n",
    "raw_text"
   ]
  },
  {
   "cell_type": "markdown",
   "id": "3ff56741",
   "metadata": {},
   "source": [
    "# Evalution"
   ]
  },
  {
   "cell_type": "code",
   "execution_count": 84,
   "id": "b44806bd",
   "metadata": {},
   "outputs": [
    {
     "name": "stdout",
     "output_type": "stream",
     "text": [
      "pdf_text_accuracy 83\n"
     ]
    }
   ],
   "source": [
    "#!pip install fuzzywuzzy\n",
    "from fuzzywuzzy import fuzz\n",
    "\n",
    "Ratio = fuzz.ratio(pdf_text.lower(), raw_text.lower())\n",
    "print(\"pdf_text_accuracy\" ,Ratio)\n",
    "\n",
    "#Ratio = fuzz.ratio(image_text.lower(), raw_text.lower())\n",
    "#print(\"image_text_accuracy\" ,Ratio)"
   ]
  }
 ],
 "metadata": {
  "kernelspec": {
   "display_name": "Python 3 (ipykernel)",
   "language": "python",
   "name": "python3"
  },
  "language_info": {
   "codemirror_mode": {
    "name": "ipython",
    "version": 3
   },
   "file_extension": ".py",
   "mimetype": "text/x-python",
   "name": "python",
   "nbconvert_exporter": "python",
   "pygments_lexer": "ipython3",
   "version": "3.9.12"
  }
 },
 "nbformat": 4,
 "nbformat_minor": 5
}
